{
 "cells": [
  {
   "cell_type": "code",
   "execution_count": 1,
   "id": "dd9bbf74",
   "metadata": {},
   "outputs": [
    {
     "name": "stdout",
     "output_type": "stream",
     "text": [
      "Welcome to JupyROOT 6.24/06\n"
     ]
    }
   ],
   "source": [
    "#!jupyter nbconvert --to script pythiaTesting.ipynb\n",
    "import sys\n",
    "import ROOT as RT\n",
    "import awkward as ak\n",
    "from coffea.nanoevents import NanoEventsFactory, DelphesSchema\n"
   ]
  },
  {
   "cell_type": "code",
   "execution_count": 2,
   "id": "02251186",
   "metadata": {},
   "outputs": [],
   "source": [
    "def getEvents(fileURL, treename):\n",
    "    return NanoEventsFactory.from_root(fileURL, treepath = treename, schemaclass = DelphesSchema).events()\n",
    "\n",
    "def histoSettings(histos):\n",
    "    for key in histos:\n",
    "        histos[key].Sumw2()\n",
    "        histos[key].SetDirectory(0)\n"
   ]
  },
  {
   "cell_type": "code",
   "execution_count": null,
   "id": "fe4b152b",
   "metadata": {},
   "outputs": [],
   "source": [
    "PIDof = {'LLP': 1500001, 'mu': 13, 'b': 5, 'K': 313}\n",
    "\n",
    "filedir   = \"root://cms-xrd-global.cern.ch//store/user/christiw/BDecay_delphes/v1/\"\n",
    "filenames = {'1e4mm': \"m1_ct10000mm.root\",\n",
    "             '1e3mm': \"m1_ct1000mm.root\",\n",
    "             '1e2mm': \"m1_ct100mm.root\",\n",
    "             '1e1mm': \"m1_ct10mm.root\"}\n",
    "treename  = \"Delphes\"\n",
    "\n",
    "datasets = {'1e4mm': getEvents(filedir+filenames['1e4mm'], treename)}\n",
    "\n",
    "#datasets = {}\n",
    "#for key in filenames:\n",
    "#    datasets[key] = getEvents(filedir+filenames[key], treename)\n"
   ]
  },
  {
   "cell_type": "code",
   "execution_count": null,
   "id": "7f37f6c4",
   "metadata": {},
   "outputs": [],
   "source": [
    "histos = {}\n",
    "for key in PIDof:\n",
    "    histos[key+'PT']  = RT.TH1F(key+'P_{T}', 'Events',30,0,100)\n",
    "    histos[key+'Eta'] = RT.TH1F(key+'\\eta', 'Events',30,0,5)\n",
    "    histos[key+'Phi'] = RT.TH1F(key+'\\phi', 'Events',30,-5,5)\n",
    "    \n",
    "#histoSettings(histos)"
   ]
  },
  {
   "cell_type": "code",
   "execution_count": null,
   "id": "9f8a04b4",
   "metadata": {},
   "outputs": [],
   "source": [
    "'''\n",
    "def muonReq(event, nMuons, muonsP4):\n",
    "    \n",
    "    muonList = event[abs(event.PID) == PIDof['mu']]\n",
    "    for ij in range(len(muonList)):\n",
    "        #get the kinematics and select the muon   \n",
    "        mp4 = RT.TLorentzVector()\n",
    "        mp4.SetPtEtaPhiM(muonList.PT[ij],\n",
    "                         muonList.Eta[ij],\n",
    "                         muonList.Phi[ij],\n",
    "                         0)\n",
    "        \n",
    "        if mp4.Pt()<8 : continue\n",
    "        #count selected muons\n",
    "        nMuons +=1\n",
    "        muonsP4.append(mp4)\n",
    "        \n",
    "    if nMuons < 1 : raise Exception('not enough muons!')\n",
    "    return nMuons\n",
    "'''\n",
    "\n",
    "def muonReq(event, muonsP4):\n",
    "    \n",
    "    muonList = event[abs(event.PID) == PIDof['mu']]\n",
    "    #muonList = muonList[muonList.PT > 8]\n",
    "    muonList = muonList[muonList.Eta < 2.4]\n",
    "    \n",
    "    nMuons = len(muonList)\n",
    "    if nMuons < 1 : raise Exception('not enough muons!')\n",
    "        \n",
    "    for ij in range(nMuons):\n",
    "        #get the kinematics and select the muon   \n",
    "        mp4 = RT.TLorentzVector()\n",
    "        mp4.SetPtEtaPhiM(muonList.PT[ij],\n",
    "                         muonList.Eta[ij],\n",
    "                         muonList.Phi[ij],\n",
    "                         0)\n",
    "        \n",
    "        muonsP4.append(mp4)\n",
    "        "
   ]
  },
  {
   "cell_type": "code",
   "execution_count": null,
   "id": "5688bf35",
   "metadata": {},
   "outputs": [],
   "source": [
    "'''def BmesonReq(event, nBmesons, BmesonsP4):\n",
    "    \n",
    "    BmesonList = event[abs(event.PID) == PIDof['b']]\n",
    "    for ij in range(len(BmesonList)):\n",
    "        #get the kinematics and select the Bmeson (~sorta)\n",
    "        bp4 = RT.TLorentzVector()\n",
    "        bp4.SetPtEtaPhiM(BmesonList.PT[ij],\n",
    "                         BmesonList.Eta[ij],\n",
    "                         BmesonList.Phi[ij],\n",
    "                         0)\n",
    "        \n",
    "        #count selected bs\n",
    "        nBmesons +=1\n",
    "        BmesonsP4.append(bp4)\n",
    "    if nBmesons < 2 : raise Exception('not enough bs!')\n",
    "    return nBmesons'''\n",
    "\n",
    "def BmesonReq(event, BmesonsP4):\n",
    "    \n",
    "    BmesonList = event[abs(event.PID) == PIDof['b']]\n",
    "    \n",
    "    nBmesons = len(BmesonList)\n",
    "    if nBmesons < 2 : raise Exception('not enough bs!')\n",
    "    \n",
    "    for ij in range(nBmesons):\n",
    "        #get the kinematics and select the Bmeson (~sorta)\n",
    "        bp4 = RT.TLorentzVector()\n",
    "        bp4.SetPtEtaPhiM(BmesonList.PT[ij],\n",
    "                         BmesonList.Eta[ij],\n",
    "                         BmesonList.Phi[ij],\n",
    "                         0)\n",
    "    \n",
    "        BmesonsP4.append(bp4)\n",
    "        \n"
   ]
  },
  {
   "cell_type": "code",
   "execution_count": null,
   "id": "d4234f86",
   "metadata": {},
   "outputs": [],
   "source": [
    "def kaonReq(event, KaonsP4):\n",
    "    \n",
    "    KaonList = event[abs(event.PID) == PIDof['K']]\n",
    "\n",
    "    nKaons = len(KaonList)\n",
    "    if nKaons < 1 : raise Exception('not enough Kaons!')\n",
    "    \n",
    "    for ij in range(nKaons):\n",
    "        #get the kinematics and select the Kaon (~sorta)\n",
    "        kp4 = RT.TLorentzVector()\n",
    "        kp4.SetPtEtaPhiM(KaonList.PT[ij],\n",
    "                         KaonList.Eta[ij],\n",
    "                         KaonList.Phi[ij],\n",
    "                         0)  \n",
    "\n",
    "        KaonsP4.append(kp4)\n",
    "\n"
   ]
  },
  {
   "cell_type": "code",
   "execution_count": null,
   "id": "f2799b0a",
   "metadata": {},
   "outputs": [],
   "source": [
    "def LLPReq(event, llpP4):\n",
    "    \n",
    "    llpList = event[abs(event.PID) == PIDof['LLP']]\n",
    "\n",
    "    nLLPs = len(llpList)\n",
    "    \n",
    "    for ij in range(nLLPs):\n",
    "        #get the kinematics and select the Kaon (~sorta)\n",
    "        lp4 = RT.TLorentzVector()\n",
    "        lp4.SetPtEtaPhiM(llpList.PT[ij],\n",
    "                         llpList.Eta[ij],\n",
    "                         llpList.Phi[ij],\n",
    "                         0)  \n",
    "\n",
    "        llpP4.append(lp4)\n",
    "        \n",
    "    return nLLPs\n"
   ]
  },
  {
   "cell_type": "code",
   "execution_count": null,
   "id": "74249dfd",
   "metadata": {},
   "outputs": [],
   "source": [
    "def inMuonChambers(event, llpP4):\n",
    "    \n",
    "    llpList = event[abs(event.PID) == PIDof['LLP']]\n",
    "    llpList = llpList[]\n",
    "    \n",
    "    \n",
    "    nLLPs = len(llpList)\n",
    "    \n",
    "    for ij in range(nLLPs):\n",
    "        #get the kinematics and select the Kaon (~sorta)\n",
    "        lp4 = RT.TLorentzVector()\n",
    "        lp4.SetPtEtaPhiM(llpList.PT[ij],\n",
    "                         llpList.Eta[ij],\n",
    "                         llpList.Phi[ij],\n",
    "                         0)  \n",
    "\n",
    "        llpP4.append(lp4)\n",
    "        \n",
    "    return nLLPs"
   ]
  },
  {
   "cell_type": "code",
   "execution_count": 35,
   "id": "3034441e",
   "metadata": {},
   "outputs": [
    {
     "name": "stdout",
     "output_type": "stream",
     "text": [
      " [ 99/100 ] done"
     ]
    }
   ],
   "source": [
    "ctau = '1e4mm'\n",
    "totalEntries = len(datasets[ctau])\n",
    "nLLPsGuess = 0\n",
    "nLLPsReal = 0\n",
    "\n",
    "for i in range(totalEntries):\n",
    "    event = datasets[ctau].Particle[i]\n",
    "    if i%100==0 : sys.stdout.write('\\r [ %d/100 ] done' %(int(float(100.*i)/float(totalEntries))) )\n",
    "    \n",
    "    llpP4 = []\n",
    "    nLLPsReal += LLPReq(event, llpP4)\n",
    "    \n",
    "    for ij in range(0,len(llpP4)):\n",
    "        histos['LLPPT'].Fill(llpP4[ij].Pt())\n",
    "        histos['LLPEta'].Fill(llpP4[ij].Eta())\n",
    "        histos['LLPPhi'].Fill(llpP4[ij].Phi())\n",
    "    \n",
    "    muonsP4, BmesonsP4, KaonsP4 = [], [], []\n",
    "    \n",
    "    #require at least 1 muon\n",
    "    try: muonReq(event, muonsP4)\n",
    "    except: \n",
    "        #traceback.print_exc()\n",
    "        continue   \n",
    "    \n",
    "    #require at least 2 Bmesons\n",
    "    try: BmesonReq(event, BmesonsP4)\n",
    "    except: \n",
    "        #traceback.print_exc()\n",
    "        continue  \n",
    "    \n",
    "    #require at leat 1 Kaon\n",
    "    try: kaonReq(event, KaonsP4)\n",
    "    except: \n",
    "        #traceback.print_exc()\n",
    "        continue   \n",
    "    \n",
    "    nLLPsGuess +=1\n",
    "    for ij in range(0,len(muonsP4)):\n",
    "        histos['muPT'].Fill(muonsP4[ij].Pt())\n",
    "        histos['muEta'].Fill(muonsP4[ij].Eta())\n",
    "        histos['muPhi'].Fill(muonsP4[ij].Phi())\n",
    "\n",
    "    for ij in range(0,len(BmesonsP4)):\n",
    "        histos['bPT'].Fill(BmesonsP4[ij].Pt())\n",
    "        histos['bEta'].Fill(BmesonsP4[ij].Eta())\n",
    "        histos['bPhi'].Fill(BmesonsP4[ij].Phi())\n",
    "\n",
    "    for ij in range(0,len(KaonsP4)):\n",
    "        histos['KPT'].Fill(KaonsP4[ij].Pt())\n",
    "        histos['KEta'].Fill(KaonsP4[ij].Eta())\n",
    "        histos['KPhi'].Fill(KaonsP4[ij].Phi())\n",
    "        \n",
    "\n",
    "  \n",
    "   "
   ]
  },
  {
   "cell_type": "code",
   "execution_count": 28,
   "id": "a461269a",
   "metadata": {},
   "outputs": [
    {
     "name": "stderr",
     "output_type": "stream",
     "text": [
      "Info in <TCanvas::Print>: pdf file kinematics.pdf has been created\n",
      "Info in <TCanvas::Print>: Current canvas added to pdf file kinematics.pdf\n",
      "Info in <TCanvas::Print>: Current canvas added to pdf file kinematics.pdf\n",
      "Info in <TCanvas::Print>: Current canvas added to pdf file kinematics.pdf\n",
      "Info in <TCanvas::Print>: Current canvas added to pdf file kinematics.pdf\n",
      "Info in <TCanvas::Print>: Current canvas added to pdf file kinematics.pdf\n",
      "Info in <TCanvas::Print>: Current canvas added to pdf file kinematics.pdf\n",
      "Info in <TCanvas::Print>: Current canvas added to pdf file kinematics.pdf\n",
      "Info in <TCanvas::Print>: Current canvas added to pdf file kinematics.pdf\n",
      "Info in <TCanvas::Print>: Current canvas added to pdf file kinematics.pdf\n",
      "Info in <TCanvas::Print>: Current canvas added to pdf file kinematics.pdf\n",
      "Info in <TCanvas::Print>: Current canvas added to pdf file kinematics.pdf\n",
      "Info in <TCanvas::Print>: Current canvas added to pdf file kinematics.pdf\n",
      "Info in <TCanvas::Print>: pdf file kinematics.pdf has been closed\n"
     ]
    }
   ],
   "source": [
    "outFileName = 'kinematics.pdf'\n",
    "canvas = RT.TCanvas(\"canvas\")\n",
    "canvas.SetLogy(True)\n",
    "canvas.Print(outFileName + \"[\")\n",
    "for key in histos:\n",
    "    histos[key].Draw()\n",
    "    canvas.Print(outFileName)\n",
    "    canvas.Clear()\n",
    "    \n",
    "canvas.Print(outFileName + \"]\") #closes pdf\n",
    "canvas.Close() #closes canvas"
   ]
  },
  {
   "cell_type": "code",
   "execution_count": 33,
   "id": "fb5891aa",
   "metadata": {},
   "outputs": [
    {
     "data": {
      "text/plain": [
       "0.1204966771598461"
      ]
     },
     "execution_count": 33,
     "metadata": {},
     "output_type": "execute_result"
    }
   ],
   "source": [
    "nLLPsGuess/nLLPsReal"
   ]
  },
  {
   "cell_type": "code",
   "execution_count": 36,
   "id": "7f930f34",
   "metadata": {},
   "outputs": [
    {
     "data": {
      "text/plain": [
       "0.20627841902763203"
      ]
     },
     "execution_count": 36,
     "metadata": {},
     "output_type": "execute_result"
    }
   ],
   "source": [
    "nLLPsGuess/nLLPsReal"
   ]
  },
  {
   "cell_type": "code",
   "execution_count": 58,
   "id": "4d6950f7",
   "metadata": {},
   "outputs": [
    {
     "data": {
      "text/plain": [
       "[<Particle: name=\"K0\", pdgid=311, mass=497.611 ± 0.013 MeV>,\n",
       " <Particle: name=\"K~0\", pdgid=-311, mass=497.611 ± 0.013 MeV>,\n",
       " <Particle: name=\"K+\", pdgid=321, mass=493.677 ± 0.016 MeV>,\n",
       " <Particle: name=\"K-\", pdgid=-321, mass=493.677 ± 0.016 MeV>]"
      ]
     },
     "execution_count": 58,
     "metadata": {},
     "output_type": "execute_result"
    }
   ],
   "source": [
    "from particle import Particle\n",
    "\n",
    "\n",
    "Particle.findall(pdg_name='K')\n"
   ]
  },
  {
   "cell_type": "code",
   "execution_count": null,
   "id": "ad2c5ccf",
   "metadata": {},
   "outputs": [],
   "source": []
  }
 ],
 "metadata": {
  "kernelspec": {
   "display_name": "Python 3 (ipykernel)",
   "language": "python",
   "name": "python3"
  },
  "language_info": {
   "codemirror_mode": {
    "name": "ipython",
    "version": 3
   },
   "file_extension": ".py",
   "mimetype": "text/x-python",
   "name": "python",
   "nbconvert_exporter": "python",
   "pygments_lexer": "ipython3",
   "version": "3.9.9"
  }
 },
 "nbformat": 4,
 "nbformat_minor": 5
}
