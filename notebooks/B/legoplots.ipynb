{
 "cells": [
  {
   "cell_type": "code",
   "execution_count": 1,
   "id": "b2034bc7",
   "metadata": {
    "ExecuteTime": {
     "end_time": "2022-03-15T23:19:37.017003Z",
     "start_time": "2022-03-15T23:19:34.318062Z"
    },
    "scrolled": true
   },
   "outputs": [
    {
     "name": "stdout",
     "output_type": "stream",
     "text": [
      "Welcome to JupyROOT 6.24/06\n"
     ]
    }
   ],
   "source": [
    "import ROOT as RT\n",
    "import awkward as ak\n",
    "from coffea.nanoevents import NanoEventsFactory, DelphesSchema\n",
    "from pprint import pprint\n",
    "import numpy as np\n",
    "import collections\n",
    "import numba as nb\n",
    "import itertools as it"
   ]
  },
  {
   "cell_type": "code",
   "execution_count": 2,
   "id": "2c0e6819",
   "metadata": {
    "ExecuteTime": {
     "end_time": "2022-03-15T23:19:37.127785Z",
     "start_time": "2022-03-15T23:19:37.018762Z"
    }
   },
   "outputs": [],
   "source": [
    "PIDof = {'LLP': 1500001, 'muon' : 13, 'Bmeson': 500} #Bmesons are only found in the 500s so I'm just picking the first and making a range lager in code\n",
    "\n",
    "def getEvents(fileURL, treename, start, stop):\n",
    "    return NanoEventsFactory.from_root(fileURL, treepath = treename, schemaclass = DelphesSchema, entry_start = start, entry_stop = stop).events().Particle\n",
    "\n",
    "#to make dictionary-like objects easier\n",
    "def makehash():\n",
    "    return collections.defaultdict(makehash)\n",
    "\n",
    "def loader(filedir, filenames, treename, start, stop):\n",
    "    ctauSamples = {}\n",
    "    for key in filenames:\n",
    "        ctauSamples[key] = getEvents(filedir + filenames[key], treename, start, stop)\n",
    "\n",
    "    return ctauSamples\n",
    "\n",
    "def getLLPs(particle): \n",
    "    llp = particle[particle.PID == PIDof['LLP']]\n",
    "    \n",
    "    r = np.sqrt(llp.decayX**2 + llp.decayY**2) \n",
    "    trueIn = ((abs(llp.Eta) < 2.4) &\n",
    "              (abs(llp.decayZ) > 6500) & (abs(llp.decayZ) < 11000) &\n",
    "              (r < 6955))  \n",
    "    llp = llp[trueIn]\n",
    "    \n",
    "    statusMask = llp.Status == 91\n",
    "    llp = llp[statusMask]\n",
    "    \n",
    "    aloneMask = ak.count(ak.flatten(llp.parent.children.PID, axis = -1), axis = -1) == 2\n",
    "    llp = llp[aloneMask] \n",
    "    return llp\n",
    "\n",
    "def getChildren(particle):\n",
    "    return particle.children\n",
    "\n",
    "def getSiblings(particle):\n",
    "    iD = particle.fUniqueID\n",
    "    siblings = particle.parent.children\n",
    "    siblings = siblings[siblings.fUniqueID != iD]\n",
    "    siblings = siblings[siblings.PID != PIDof['LLP']]\n",
    "    return siblings\n",
    "\n",
    "def getParents(particle):    return particle.parent\n",
    "\n",
    "def getPiblings(particle):\n",
    "    iD = particle.parent.fUniqueID\n",
    "    piblings = particle.parent.parent.children\n",
    "    piblings = piblings[piblings.fUniqueID != iD]\n",
    "    return piblings\n",
    "    \n",
    "def getCousins(particle):\n",
    "    piblings = getPiblings(particle)\n",
    "    cousins = piblings.children\n",
    "    return cousins\n",
    "    \n",
    "def genParticleDict(particle):\n",
    "    llps = getLLPs(particle)\n",
    "#    siblings = getSiblings(llps)\n",
    "#    parents = getParents(llps)\n",
    "    \n",
    "    particleDict = {\n",
    "        'llps' : llps,\n",
    "#        'kaons' : siblings,\n",
    "#        'Bmesons' : parents,\n",
    "    }\n",
    "    return particleDict\n",
    "\n",
    "def deltaR(particle1, particle2):\n",
    "    deltaPhi = particle1.Phi - particle2.Phi\n",
    "    deltaEta = particle1.Eta - particle2.Eta\n",
    "    return np.sqrt(deltaPhi**2 + deltaEta**2)\n",
    "\n",
    "def decayR(particle):\n",
    "    return np.sqrt(particle.decayX**2 + particle.decayY**2) "
   ]
  },
  {
   "cell_type": "code",
   "execution_count": 3,
   "id": "8d5d0e76",
   "metadata": {
    "ExecuteTime": {
     "end_time": "2022-03-15T23:19:37.281918Z",
     "start_time": "2022-03-15T23:19:37.129066Z"
    }
   },
   "outputs": [],
   "source": [
    "address = 'root://cmsxrootd.fnal.gov/'\n",
    "#address = 'root://eospublic.cern.ch/'\n",
    "#address = 'root://cmseos.fnal.gov/'\n",
    "#address = 'root://cms-xrd-global.cern.ch/'\n",
    "\n",
    "filedir   = address + \"/store/user/aaportel/hadd/\"\n",
    "filenames = {'1e1mm': \"m1_ct10mm.root\",\n",
    "             '1e2mm': \"m1_ct100mm.root\",\n",
    "             '1e3mm': \"m1_ct1000mm.root\",\n",
    "             '1e4mm': \"m1_ct10000mm.root\"}\n",
    "treename  = \"Delphes\"\n",
    "\n",
    "# initialize dictionaries\n",
    "hists = makehash()\n",
    "for ctau in filenames:\n",
    "    hists[ctau]['llp'] = RT.TH2F(f'llp_{ctau}', '', 20, 0, 12000, 20, 0, 8000)\n",
    "    #hists[ctau]['kaon'] = RT.TH2F(f'kaon_{ctau}', '', 30, 0, 11000, 30, 0, 7500)\n",
    "    #hists[ctau]['Bmeson'] = RT.TH2F(f'Bmeson_{ctau}', '', 30, 0, 11000, 30, 0, 7500)\n",
    "    \n",
    "for ctau in hists:\n",
    "    for name in hists[ctau]:\n",
    "        hists[ctau][name].Sumw2()\n",
    "        hists[ctau][name].SetDirectory(0)"
   ]
  },
  {
   "cell_type": "code",
   "execution_count": 4,
   "id": "602e1bfb",
   "metadata": {
    "ExecuteTime": {
     "end_time": "2022-03-15T23:25:58.182147Z",
     "start_time": "2022-03-15T23:19:37.283924Z"
    },
    "scrolled": true
   },
   "outputs": [
    {
     "name": "stdout",
     "output_type": "stream",
     "text": [
      "0.0% done \n",
      "1.0% done \n",
      "2.0% done \n",
      "3.0% done \n",
      "4.0% done \n",
      "5.0% done \n",
      "6.0% done \n",
      "7.000000000000001% done \n",
      "8.0% done \n",
      "9.0% done \n",
      "10.0% done \n",
      "11.0% done \n",
      "12.0% done \n",
      "13.0% done \n",
      "14.000000000000002% done \n",
      "15.0% done \n",
      "16.0% done \n",
      "17.0% done \n",
      "18.0% done \n",
      "19.0% done \n",
      "20.0% done \n",
      "21.0% done \n",
      "22.0% done \n",
      "23.0% done \n",
      "24.0% done \n",
      "25.0% done \n",
      "26.0% done \n",
      "27.0% done \n",
      "28.000000000000004% done \n",
      "28.999999999999996% done \n",
      "30.0% done \n",
      "31.0% done \n",
      "32.0% done \n",
      "33.0% done \n",
      "34.0% done \n",
      "35.0% done \n",
      "36.0% done \n",
      "37.0% done \n",
      "38.0% done \n",
      "39.0% done \n",
      "40.0% done \n",
      "41.0% done \n",
      "42.0% done \n",
      "43.0% done \n",
      "44.0% done \n",
      "45.0% done \n",
      "46.0% done \n",
      "47.0% done \n",
      "48.0% done \n",
      "49.0% done \n",
      "50.0% done \n",
      "51.0% done \n",
      "52.0% done \n",
      "53.0% done \n",
      "54.0% done \n",
      "55.00000000000001% done \n",
      "56.00000000000001% done \n",
      "56.99999999999999% done \n",
      "57.99999999999999% done \n",
      "59.0% done \n",
      "60.0% done \n",
      "61.0% done \n",
      "62.0% done \n",
      "63.0% done \n",
      "64.0% done \n",
      "65.0% done \n",
      "66.0% done \n",
      "67.0% done \n",
      "68.0% done \n",
      "69.0% done \n",
      "70.0% done \n",
      "71.0% done \n",
      "72.0% done \n",
      "73.0% done \n",
      "74.0% done \n",
      "75.0% done \n",
      "76.0% done \n",
      "77.0% done \n",
      "78.0% done \n",
      "79.0% done \n",
      "80.0% done \n",
      "81.0% done \n",
      "82.0% done \n",
      "83.0% done \n",
      "84.0% done \n",
      "85.0% done \n",
      "86.0% done \n",
      "87.0% done \n",
      "88.0% done \n",
      "89.0% done \n",
      "90.0% done \n",
      "91.0% done \n",
      "92.0% done \n",
      "93.0% done \n",
      "94.0% done \n",
      "95.0% done \n",
      "96.0% done \n",
      "97.0% done \n",
      "98.0% done \n",
      "99.0% done \n"
     ]
    }
   ],
   "source": [
    "def mainloop(hists):        \n",
    "    start = 0\n",
    "    stop = 10000\n",
    "    step = 100\n",
    "    for i in range(start, stop, step):\n",
    "        print(f'{i/(stop-start)*100}% done \\r')\n",
    "        ctauSamples = loader(filedir, filenames, treename, i, i+step)\n",
    "        particleDict = {}\n",
    "        for ctau in filenames:\n",
    "            particleDict[ctau] = genParticleDict(ctauSamples[ctau])\n",
    "\n",
    "        for ctau in filenames:\n",
    "            llps = particleDict[ctau]['llps']\n",
    "            #kaons = particleDict[ctau]['kaons']\n",
    "            #Bmesons = particleDict[ctau]['Bmesons']\n",
    "\n",
    "            \n",
    "            \n",
    "            llpZip = zip(ak.flatten(abs(llps.decayZ), axis = None), ak.flatten(decayR(llps), axis = None))\n",
    "            #kaonZip = it.product(ak.flatten(kaons.decayZ, axis = None), ak.flatten(decayR(kaons), axis = None))\n",
    "            #BmesonZip = it.product(ak.flatten(Bmesons.decayZ, axis = None), ak.flatten(decayR(Bmesons), axis = None))\n",
    "            \n",
    "            \n",
    "            for z, r in llpZip:\n",
    "                hists[ctau]['llp'].Fill(z,r)\n",
    "                \n",
    "            '''print(f'\\t\\t kaon')\n",
    "            for z, r in kaonZip:\n",
    "                hists[ctau]['kaon'].Fill(z,r)\n",
    "                \n",
    "            print(f'\\t\\t Bmeson')\n",
    "            for z, r in BmesonZip:\n",
    "                hists[ctau]['Bmeson'].Fill(z,r)\n",
    "                '''\n",
    "                \n",
    "    return particleDict\n",
    "\n",
    "particleDict = mainloop(hists)"
   ]
  },
  {
   "cell_type": "code",
   "execution_count": 5,
   "id": "71d41973",
   "metadata": {
    "ExecuteTime": {
     "end_time": "2022-03-15T23:25:58.308140Z",
     "start_time": "2022-03-15T23:25:58.183611Z"
    },
    "scrolled": true
   },
   "outputs": [],
   "source": [
    "colorPalette = [RT.kRed, RT.kBlue, RT.kOrange, RT.kGreen+3]\n",
    "interestQuantities = ['llp']#,'kaon','Bmeson']\n",
    "normhists = makehash()\n",
    "for count, ctau in enumerate(filenames):\n",
    "    for name in interestQuantities:\n",
    "        tot = hists[ctau][name].Integral()\n",
    "        normhists[name][ctau] = (hists[ctau][name].Clone())\n",
    "        normhists[name][ctau].Scale(1/tot)\n"
   ]
  },
  {
   "cell_type": "code",
   "execution_count": 6,
   "id": "e1bba0d6",
   "metadata": {
    "ExecuteTime": {
     "end_time": "2022-03-15T23:25:58.565207Z",
     "start_time": "2022-03-15T23:25:58.309736Z"
    },
    "scrolled": false
   },
   "outputs": [
    {
     "name": "stderr",
     "output_type": "stream",
     "text": [
      "Info in <TCanvas::Print>: pdf file decayposmap_csccut.pdf has been created\n",
      "Info in <TCanvas::Print>: Current canvas added to pdf file decayposmap_csccut.pdf\n",
      "Info in <TCanvas::Print>: Current canvas added to pdf file decayposmap_csccut.pdf\n",
      "Info in <TCanvas::Print>: Current canvas added to pdf file decayposmap_csccut.pdf\n",
      "Info in <TCanvas::Print>: Current canvas added to pdf file decayposmap_csccut.pdf\n",
      "Info in <TCanvas::Print>: pdf file decayposmap_csccut.pdf has been closed\n"
     ]
    }
   ],
   "source": [
    "colorPalette = [RT.kRed, RT.kBlue, RT.kOrange, RT.kGreen+3]\n",
    "shapePalette = [RT.kFullCircle, RT.kFullSquare, RT.kFullTriangleUp, RT.kFullTriangleDown]\n",
    "\n",
    "reorganizedHists = makehash()\n",
    "for ctau in hists:\n",
    "    for key in hists[ctau]:\n",
    "        reorganizedHists[key][ctau] = hists[ctau][key]\n",
    "\n",
    "EhadFileName = 'decayposmap_csccut.pdf'\n",
    "a = RT.TCanvas()\n",
    "\n",
    "a.Print(EhadFileName + \"[\")\n",
    "\n",
    "\n",
    "for key in reorganizedHists:\n",
    "    for count, ctau in enumerate(reorganizedHists[key]):\n",
    "        RT.gStyle.SetOptStat(0)\n",
    "        reorganizedHists[key][ctau].SetTitle(f'{key} decay pos, ctau = {ctau}')\n",
    "        reorganizedHists[key][ctau].GetXaxis().SetTitle('Z pos (mm)')\n",
    "        reorganizedHists[key][ctau].GetYaxis().SetTitle('R pos (mm)')\n",
    "        reorganizedHists[key][ctau].Draw('colz')\n",
    "\n",
    "        a.Print(EhadFileName)\n",
    "        a.Clear()       \n",
    "    \n",
    "a.Print(EhadFileName + \"]\") #closes pdf\n",
    "a.Close() #closes canvas"
   ]
  },
  {
   "cell_type": "markdown",
   "id": "26ca82e0",
   "metadata": {},
   "source": [
    "#### This is the process that might produce some LLPs\n",
    "<img src=images/llpProcess.png> \n",
    "\n",
    "#### We want to make some collections of the extended family"
   ]
  },
  {
   "cell_type": "code",
   "execution_count": 7,
   "id": "86695331",
   "metadata": {
    "ExecuteTime": {
     "end_time": "2022-03-15T23:25:58.670265Z",
     "start_time": "2022-03-15T23:25:58.566827Z"
    }
   },
   "outputs": [
    {
     "name": "stdout",
     "output_type": "stream",
     "text": [
      "total llp, 1e1mm: 854.0\n",
      "total llp, 1e2mm: 955.0\n",
      "total llp, 1e3mm: 841.0\n",
      "total llp, 1e4mm: 920.0\n"
     ]
    }
   ],
   "source": [
    "for key in reorganizedHists:\n",
    "    for ctau in reorganizedHists[key]:\n",
    "        total = reorganizedHists[key][ctau].Integral()\n",
    "        print(f'total {key}, {ctau}: {total}')"
   ]
  },
  {
   "cell_type": "code",
   "execution_count": 8,
   "id": "c184a9d4",
   "metadata": {
    "ExecuteTime": {
     "end_time": "2022-03-15T23:25:58.791519Z",
     "start_time": "2022-03-15T23:25:58.671746Z"
    }
   },
   "outputs": [
    {
     "data": {
      "text/plain": [
       "7813.01"
      ]
     },
     "execution_count": 8,
     "metadata": {},
     "output_type": "execute_result"
    }
   ],
   "source": [
    "ak.min(np.sqrt(particleDict['1e1mm']['llps'].decayZ**2 + decayR(particleDict['1e1mm']['llps'])**2))"
   ]
  },
  {
   "cell_type": "code",
   "execution_count": null,
   "id": "12d696f7",
   "metadata": {},
   "outputs": [],
   "source": []
  }
 ],
 "metadata": {
  "kernelspec": {
   "display_name": "Python 3 (ipykernel)",
   "language": "python",
   "name": "python3"
  },
  "language_info": {
   "codemirror_mode": {
    "name": "ipython",
    "version": 3
   },
   "file_extension": ".py",
   "mimetype": "text/x-python",
   "name": "python",
   "nbconvert_exporter": "python",
   "pygments_lexer": "ipython3",
   "version": "3.9.9"
  }
 },
 "nbformat": 4,
 "nbformat_minor": 5
}
