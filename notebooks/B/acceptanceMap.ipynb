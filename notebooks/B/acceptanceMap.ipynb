{
 "cells": [
  {
   "cell_type": "code",
   "execution_count": 1,
   "id": "b2034bc7",
   "metadata": {
    "ExecuteTime": {
     "end_time": "2022-03-16T01:13:26.397573Z",
     "start_time": "2022-03-16T01:13:06.088938Z"
    },
    "scrolled": true
   },
   "outputs": [
    {
     "name": "stdout",
     "output_type": "stream",
     "text": [
      "Welcome to JupyROOT 6.24/06\n"
     ]
    }
   ],
   "source": [
    "import sys\n",
    "import ROOT as RT\n",
    "import awkward as ak\n",
    "from coffea.nanoevents import NanoEventsFactory, DelphesSchema\n",
    "import numpy as np\n",
    "import matplotlib.pyplot as plt\n",
    "import scipy.stats as ss\n",
    "import pprint\n",
    "import hist"
   ]
  },
  {
   "cell_type": "markdown",
   "id": "e9bb0a27",
   "metadata": {},
   "source": [
    "Helper function for streamlining the import of the root files"
   ]
  },
  {
   "cell_type": "code",
   "execution_count": 2,
   "id": "2c0e6819",
   "metadata": {
    "ExecuteTime": {
     "end_time": "2022-03-16T01:13:26.502282Z",
     "start_time": "2022-03-16T01:13:26.399129Z"
    }
   },
   "outputs": [],
   "source": [
    "def getEvents(fileURL, treename):\n",
    "    return NanoEventsFactory.from_root(fileURL, treepath = treename, schemaclass = DelphesSchema).events()"
   ]
  },
  {
   "cell_type": "markdown",
   "id": "322ad3f8",
   "metadata": {},
   "source": [
    "Import root files and save them to dict called datasets"
   ]
  },
  {
   "cell_type": "code",
   "execution_count": 3,
   "id": "602e1bfb",
   "metadata": {
    "ExecuteTime": {
     "end_time": "2022-03-16T01:13:29.257728Z",
     "start_time": "2022-03-16T01:13:26.503698Z"
    }
   },
   "outputs": [],
   "source": [
    "filedir   = \"root://cmsxrootd.fnal.gov//store/user/aaportel/hadd/\"\n",
    "filenames = {'1e1mm': \"m1_ct10mm.root\",\n",
    "             '1e2mm': \"m1_ct100mm.root\",\n",
    "             '1e3mm': \"m1_ct1000mm.root\",\n",
    "             '1e4mm': \"m1_ct10000mm.root\"}\n",
    "treename  = \"Delphes\"\n",
    "\n",
    "# TODO: ak.zip this into one awkward array\n",
    "datasets = {}\n",
    "for key in filenames:\n",
    "    datasets[key] = getEvents(filedir + filenames[key], treename)\n"
   ]
  },
  {
   "cell_type": "code",
   "execution_count": 4,
   "id": "e526394c",
   "metadata": {
    "ExecuteTime": {
     "end_time": "2022-03-16T01:13:29.363734Z",
     "start_time": "2022-03-16T01:13:29.260363Z"
    },
    "scrolled": false
   },
   "outputs": [],
   "source": [
    "#help(h1.plot_pull('normal'))"
   ]
  },
  {
   "cell_type": "markdown",
   "id": "8e5a4bfe",
   "metadata": {},
   "source": [
    "A precut that takes in event.llp or event.CscCluster130 and cuts everything outside the bounding box."
   ]
  },
  {
   "cell_type": "code",
   "execution_count": 5,
   "id": "5e171d06",
   "metadata": {
    "ExecuteTime": {
     "end_time": "2022-03-16T01:13:29.469591Z",
     "start_time": "2022-03-16T01:13:29.365674Z"
    }
   },
   "outputs": [],
   "source": [
    "#takes in either event.llp or event.CscCluster130\n",
    "def inCSC(llp, zmin, zmax):\n",
    "    \n",
    "    r = np.sqrt(llp.X**2 + llp.Y**2) \n",
    "    \n",
    "    trueIn = ((abs(llp.Eta) < 2.4) &\n",
    "               (abs(llp.Z) > zmin) & (abs(llp.Z) < zmax) &\n",
    "               (r < 6955)) \n",
    "    \n",
    "    return llp[trueIn]"
   ]
  },
  {
   "cell_type": "code",
   "execution_count": null,
   "id": "ab3723f0",
   "metadata": {},
   "outputs": [],
   "source": []
  },
  {
   "cell_type": "markdown",
   "id": "5705d15d",
   "metadata": {},
   "source": [
    "Generates histograms for efficiency mapping of llp and CscCluster130 for a given variable, inside of the detector"
   ]
  },
  {
   "cell_type": "code",
   "execution_count": 6,
   "id": "6c1e4c94",
   "metadata": {
    "ExecuteTime": {
     "end_time": "2022-03-16T01:13:29.646261Z",
     "start_time": "2022-03-16T01:13:29.471072Z"
    },
    "scrolled": true
   },
   "outputs": [
    {
     "name": "stdout",
     "output_type": "stream",
     "text": [
      "{'1e1mm': {'real': <cppyy.gbl.TH1F object at 0x556c2e3e80b0>,\n",
      "           'reco': <cppyy.gbl.TH1F object at 0x556c2e3ff6e0>},\n",
      " '1e2mm': {'real': <cppyy.gbl.TH1F object at 0x556c2e3f09c0>,\n",
      "           'reco': <cppyy.gbl.TH1F object at 0x556c2e3f04a0>},\n",
      " '1e3mm': {'real': <cppyy.gbl.TH1F object at 0x556c2e3f4700>,\n",
      "           'reco': <cppyy.gbl.TH1F object at 0x556c2e3e96a0>},\n",
      " '1e4mm': {'real': <cppyy.gbl.TH1F object at 0x556c2e3e3ec0>,\n",
      "           'reco': <cppyy.gbl.TH1F object at 0x556c2e3e1470>}}\n"
     ]
    },
    {
     "name": "stderr",
     "output_type": "stream",
     "text": [
      "Warning in <TROOT::Append>: Replacing existing TH1: Z decay pos (mm) (Potential memory leak).\n",
      "Warning in <TROOT::Append>: Replacing existing TH1: Hadronic Energy (GeV) (Potential memory leak).\n",
      "Warning in <TROOT::Append>: Replacing existing TH1: Z decay pos (mm) (Potential memory leak).\n",
      "Warning in <TROOT::Append>: Replacing existing TH1: Z decay pos (mm) (Potential memory leak).\n",
      "Warning in <TROOT::Append>: Replacing existing TH1: Hadronic Energy (GeV) (Potential memory leak).\n",
      "Warning in <TROOT::Append>: Replacing existing TH1: Hadronic Energy (GeV) (Potential memory leak).\n",
      "Warning in <TROOT::Append>: Replacing existing TH1: Z decay pos (mm) (Potential memory leak).\n",
      "Warning in <TROOT::Append>: Replacing existing TH1: Z decay pos (mm) (Potential memory leak).\n",
      "Warning in <TROOT::Append>: Replacing existing TH1: Hadronic Energy (GeV) (Potential memory leak).\n",
      "Warning in <TROOT::Append>: Replacing existing TH1: Hadronic Energy (GeV) (Potential memory leak).\n",
      "Warning in <TROOT::Append>: Replacing existing TH1: Z decay pos (mm) (Potential memory leak).\n",
      "Warning in <TROOT::Append>: Replacing existing TH1: Z decay pos (mm) (Potential memory leak).\n",
      "Warning in <TROOT::Append>: Replacing existing TH1: Hadronic Energy (GeV) (Potential memory leak).\n",
      "Warning in <TROOT::Append>: Replacing existing TH1: Hadronic Energy (GeV) (Potential memory leak).\n"
     ]
    }
   ],
   "source": [
    "# initialize some dicitonaries to store histograms in an organized manner\n",
    "pos_histos = {}\n",
    "Ehad_histos  = {}\n",
    "\n",
    "# for variable binning\n",
    "zmin, zmax = 6500, 11000\n",
    "Ehad_bins = np.array([0,25,50,75,100,150,200,250])*1.\n",
    "znumbins = 30\n",
    "Enumbins = 7\n",
    "\n",
    "#zmin, zmax = 6500, 11000\n",
    "#Ehad_bins = np.array([0,2500])*1.\n",
    "#znumbins = 1\n",
    "#Enumbins = 1\n",
    "\n",
    "# initialize dictionaries\n",
    "for ctau in datasets:\n",
    "    pos_histos[ctau] = {'reco': RT.TH1F('Z decay pos (mm)', ctau + ' reco', znumbins, zmin, zmax),\n",
    "                        'real': RT.TH1F('Z decay pos (mm)', ctau + ' real', znumbins, zmin, zmax)}\n",
    "    \n",
    "    Ehad_histos[ctau]  = {'reco': RT.TH1F('Hadronic Energy (GeV)', ctau + ' reco', Enumbins, Ehad_bins),\n",
    "                          'real': RT.TH1F('Hadronic Energy (GeV)', ctau + ' real', Enumbins, Ehad_bins)}   \n",
    "                         # real means generated llp (events.llp)\n",
    "                         # reco means reconstructed (events.CscCluster130)\n",
    "\n",
    "\n",
    "for ctau in pos_histos:\n",
    "    for kind in pos_histos[ctau]:\n",
    "        pos_histos[ctau][kind].Sumw2()\n",
    "        pos_histos[ctau][kind].SetDirectory(0)\n",
    "        Ehad_histos[ctau][kind].Sumw2()\n",
    "        Ehad_histos[ctau][kind].SetDirectory(0)\n",
    "        \n",
    "pprint.pprint(pos_histos)"
   ]
  },
  {
   "cell_type": "code",
   "execution_count": 7,
   "id": "6913b421",
   "metadata": {
    "ExecuteTime": {
     "end_time": "2022-03-16T01:14:12.546875Z",
     "start_time": "2022-03-16T01:13:29.647865Z"
    }
   },
   "outputs": [
    {
     "name": "stdout",
     "output_type": "stream",
     "text": [
      "1e1mmZpos reco num: 3082\n",
      "1e1mmEhad reco num: 3082\n",
      "1e1mmZpos real den: 9570\n",
      "1e1mmEhad real den: 9570\n",
      "recoreal inlcusive zpos 1e1mm:0.32204806687565307\n",
      "recoreal inclusive Ehad 1e1mm:0.32204806687565307\n",
      "1e2mmZpos reco num: 3961\n",
      "1e2mmEhad reco num: 3961\n",
      "1e2mmZpos real den: 12850\n",
      "1e2mmEhad real den: 12850\n",
      "recoreal inlcusive zpos 1e2mm:0.3082490272373541\n",
      "recoreal inclusive Ehad 1e2mm:0.3082490272373541\n",
      "1e3mmZpos reco num: 2694\n",
      "1e3mmEhad reco num: 2694\n",
      "1e3mmZpos real den: 12200\n",
      "1e3mmEhad real den: 12200\n",
      "recoreal inlcusive zpos 1e3mm:0.22081967213114753\n",
      "recoreal inclusive Ehad 1e3mm:0.22081967213114753\n",
      "1e4mmZpos reco num: 1807\n",
      "1e4mmEhad reco num: 1807\n",
      "1e4mmZpos real den: 12800\n",
      "1e4mmEhad real den: 12800\n",
      "recoreal inlcusive zpos 1e4mm:0.141171875\n",
      "recoreal inclusive Ehad 1e4mm:0.141171875\n"
     ]
    }
   ],
   "source": [
    "# loops over each ctau in datasets\n",
    "for ctau in datasets:\n",
    "    #sys.stdout.write(\"\\r Reading \" + filenames[ctau])\n",
    "    \n",
    "    # cut's out everything not in muon cap\n",
    "    realLLP = inCSC(datasets[ctau].llp, zmin, zmax)\n",
    "    recoLLP = inCSC(datasets[ctau].CscCluster130, zmin, zmax)\n",
    "    \n",
    "    # flattens to have an iterable list of all the Z positions (within the endcap)\n",
    "    realLLP_zpos = ak.flatten(realLLP.Z, axis = None)\n",
    "    recoLLP_zpos = ak.flatten(recoLLP.Z, axis = None)\n",
    "    \n",
    "    # flattens to have an iterable list of all the hadronic energies (of particles within the endcap)\n",
    "    realLLP_Ehad = ak.flatten(realLLP.Ehad, axis = None)\n",
    "    recoLLP_Ehad = ak.flatten(recoLLP.Ehad, axis = None)\n",
    "    \n",
    "    # histogram maker. Split into different loops for readability\n",
    "    for z in realLLP_zpos:\n",
    "        pos_histos[ctau]['real'].Fill(abs(z))\n",
    "        \n",
    "    for z in recoLLP_zpos:\n",
    "        pos_histos[ctau]['reco'].Fill(abs(z))\n",
    "        \n",
    "    for Ehad in realLLP_Ehad:\n",
    "        Ehad_histos[ctau]['real'].Fill(Ehad)\n",
    "        \n",
    "    for Ehad in recoLLP_Ehad:\n",
    "        Ehad_histos[ctau]['reco'].Fill(Ehad)\n",
    "        \n",
    "    #print('ratio of real items ' + ctau + ':' + str(len(realLLP_zpos)/len(realLLP_Ehad)))\n",
    "    #print('ratio of reco items ' + ctau + ':' + str(len(recoLLP_zpos)/len(recoLLP_Ehad)))\n",
    "\n",
    "    print(ctau + 'Zpos reco num: ' + str(len(recoLLP_zpos)))\n",
    "    print(ctau + 'Ehad reco num: ' + str(len(recoLLP_Ehad)))\n",
    "    print(ctau + 'Zpos real den: ' + str(len(realLLP_zpos)))\n",
    "    print(ctau + 'Ehad real den: ' + str(len(realLLP_Ehad)))\n",
    "\n",
    "    \n",
    "    print('recoreal inlcusive zpos ' + ctau + ':' + str(len(recoLLP_zpos)/len(realLLP_zpos)))\n",
    "    print('recoreal inclusive Ehad ' + ctau + ':' + str(len(recoLLP_Ehad)/len(realLLP_Ehad)))\n",
    "    \n",
    "\n"
   ]
  },
  {
   "cell_type": "code",
   "execution_count": 8,
   "id": "0c4c6857",
   "metadata": {
    "ExecuteTime": {
     "end_time": "2022-03-16T01:14:12.830605Z",
     "start_time": "2022-03-16T01:14:12.548296Z"
    }
   },
   "outputs": [],
   "source": [
    "for ctau in datasets:\n",
    "    realLLP = inCSC(datasets[ctau].llp, zmin, zmax)\n",
    "    realLLP_zpos = ak.flatten(realLLP.Z, axis = None)\n",
    "    realLLP_Ehad = ak.flatten(realLLP.Ehad, axis = None)\n",
    "\n",
    "    recoLLP = inCSC(datasets[ctau].CscCluster130, zmin, zmax)\n",
    "    recoLLP_zpos = ak.flatten(recoLLP.Z, axis = None)\n",
    "    recoLLP_Ehad = ak.flatten(recoLLP.Ehad, axis = None)\n",
    "\n"
   ]
  },
  {
   "cell_type": "code",
   "execution_count": 9,
   "id": "f3d6675b",
   "metadata": {
    "ExecuteTime": {
     "end_time": "2022-03-16T01:14:14.011156Z",
     "start_time": "2022-03-16T01:14:12.832343Z"
    },
    "scrolled": true
   },
   "outputs": [
    {
     "name": "stdout",
     "output_type": "stream",
     "text": [
      "{'1e1mm': {'ratio': <cppyy.gbl.TEfficiency object at 0x556c2a10dd40>,\n",
      "           'real': <cppyy.gbl.TH1F object at 0x556c2e3e80b0>,\n",
      "           'reco': <cppyy.gbl.TH1F object at 0x556c2e3ff6e0>},\n",
      " '1e2mm': {'ratio': <cppyy.gbl.TEfficiency object at 0x556c2ead24a0>,\n",
      "           'real': <cppyy.gbl.TH1F object at 0x556c2e3f09c0>,\n",
      "           'reco': <cppyy.gbl.TH1F object at 0x556c2e3f04a0>},\n",
      " '1e3mm': {'ratio': <cppyy.gbl.TEfficiency object at 0x556c2e465350>,\n",
      "           'real': <cppyy.gbl.TH1F object at 0x556c2e3f4700>,\n",
      "           'reco': <cppyy.gbl.TH1F object at 0x556c2e3e96a0>},\n",
      " '1e4mm': {'ratio': <cppyy.gbl.TEfficiency object at 0x556c2ead31f0>,\n",
      "           'real': <cppyy.gbl.TH1F object at 0x556c2e3e3ec0>,\n",
      "           'reco': <cppyy.gbl.TH1F object at 0x556c2e3e1470>}}\n"
     ]
    }
   ],
   "source": [
    "RT.gStyle.SetErrorX(0)\n",
    "colorDict = {'1e1mm':RT.kRed,'1e2mm':RT.kBlue,'1e3mm':RT.kOrange,'1e4mm':RT.kGreen+3}\n",
    "shapeDict = {'1e1mm':RT.kFullCircle,'1e2mm':RT.kFullSquare,'1e3mm':RT.kFullTriangleUp,'1e4mm':RT.kFullTriangleDown}\n",
    "\n",
    "# calculates and adds efficiencies to the histogram dictionaries\n",
    "for ctau in datasets:\n",
    "    pos_histos[ctau]['ratio'] = RT.TEfficiency(pos_histos[ctau]['reco'], pos_histos[ctau]['real'])\n",
    "    pos_histos[ctau]['ratio'].SetMarkerStyle(21)\n",
    "    pos_histos[ctau]['ratio'].SetLineColor(colorDict[ctau])\n",
    "    pos_histos[ctau]['ratio'].SetMarkerColor(colorDict[ctau])\n",
    "    pos_histos[ctau]['ratio'].SetMarkerStyle(shapeDict[ctau])\n",
    "    \n",
    "    Ehad_histos[ctau]['ratio'] = RT.TEfficiency(Ehad_histos[ctau]['reco'], Ehad_histos[ctau]['real'])\n",
    "    Ehad_histos[ctau]['ratio'].SetMarkerStyle(21)\n",
    "    Ehad_histos[ctau]['ratio'].SetLineColor(colorDict[ctau])\n",
    "    Ehad_histos[ctau]['ratio'].SetMarkerColor(colorDict[ctau])\n",
    "    Ehad_histos[ctau]['ratio'].SetMarkerStyle(shapeDict[ctau])\n",
    "    \n",
    "pprint.pprint(pos_histos)"
   ]
  },
  {
   "cell_type": "markdown",
   "id": "42cfa3b2",
   "metadata": {},
   "source": [
    "Saves efficiency histograms to pdf with proper labels"
   ]
  },
  {
   "cell_type": "code",
   "execution_count": 10,
   "id": "1d874840",
   "metadata": {
    "ExecuteTime": {
     "end_time": "2022-03-16T01:14:14.613430Z",
     "start_time": "2022-03-16T01:14:14.013862Z"
    }
   },
   "outputs": [
    {
     "name": "stderr",
     "output_type": "stream",
     "text": [
      "Info in <TCanvas::Print>: pdf file EhadEffAll.pdf has been created\n",
      "Info in <TCanvas::Print>: Current canvas added to pdf file EhadEffAll.pdf\n",
      "Info in <TCanvas::Print>: pdf file EhadEffAll.pdf has been closed\n",
      "Info in <TCanvas::Print>: pdf file EhadEff.pdf has been created\n",
      "Info in <TCanvas::Print>: Current canvas added to pdf file EhadEff.pdf\n",
      "Info in <TCanvas::Print>: Current canvas added to pdf file EhadEff.pdf\n",
      "Info in <TCanvas::Print>: Current canvas added to pdf file EhadEff.pdf\n",
      "Info in <TCanvas::Print>: Current canvas added to pdf file EhadEff.pdf\n",
      "Info in <TCanvas::Print>: pdf file EhadEff.pdf has been closed\n"
     ]
    }
   ],
   "source": [
    "EhadAllFileName = 'EhadEffAll.pdf'\n",
    "c = RT.TCanvas()\n",
    "c.Print(EhadAllFileName + \"[\")\n",
    "l = RT.TLegend(.85,.70,1,1)\n",
    "\n",
    "count = 0\n",
    "for ctau in Ehad_histos:\n",
    "    te = Ehad_histos[ctau]['ratio']\n",
    "    te.SetTitle(\"Hadronic Energy Efficiency Map; Hadronic Energy [GeV]; \\epsilon\")\n",
    "    l.AddEntry(te, ctau)\n",
    "    if count > 0:\n",
    "        te.Draw('0 same')\n",
    "    else:\n",
    "        te.Draw()\n",
    "        count +=1\n",
    "l.Draw('same')\n",
    "c.Print(EhadAllFileName)\n",
    "c.Clear()\n",
    "    \n",
    "c.Print(EhadAllFileName + \"]\") #closes pdf\n",
    "c.Close() #closes canvas\n",
    "\n",
    "EhadFileName = 'EhadEff.pdf'\n",
    "c = RT.TCanvas()\n",
    "c.Print(EhadFileName + \"[\")\n",
    "    \n",
    "for ctau in Ehad_histos:\n",
    "    te = Ehad_histos[ctau]['ratio']\n",
    "    te.SetTitle(ctau+\"; Hadronic Energy [GeV]; \\epsilon\")\n",
    "    te.Draw()\n",
    "    c.Print(EhadFileName)\n",
    "    c.Clear()\n",
    "    \n",
    "c.Print(EhadFileName + \"]\") #closes pdf\n",
    "c.Close() #closes canvas"
   ]
  },
  {
   "cell_type": "code",
   "execution_count": 11,
   "id": "0aa18f79",
   "metadata": {
    "ExecuteTime": {
     "end_time": "2022-03-16T01:14:14.754014Z",
     "start_time": "2022-03-16T01:14:14.615685Z"
    }
   },
   "outputs": [
    {
     "name": "stderr",
     "output_type": "stream",
     "text": [
      "Info in <TCanvas::Print>: pdf file posEffAll.pdf has been created\n",
      "Info in <TCanvas::Print>: Current canvas added to pdf file posEffAll.pdf\n",
      "Info in <TCanvas::Print>: pdf file posEffAll.pdf has been closed\n",
      "Info in <TCanvas::Print>: pdf file posEff.pdf has been created\n",
      "Info in <TCanvas::Print>: Current canvas added to pdf file posEff.pdf\n",
      "Info in <TCanvas::Print>: Current canvas added to pdf file posEff.pdf\n",
      "Info in <TCanvas::Print>: Current canvas added to pdf file posEff.pdf\n",
      "Info in <TCanvas::Print>: Current canvas added to pdf file posEff.pdf\n",
      "Info in <TCanvas::Print>: pdf file posEff.pdf has been closed\n"
     ]
    }
   ],
   "source": [
    "posAllFileName = 'posEffAll.pdf'\n",
    "c = RT.TCanvas()\n",
    "c.Print(posAllFileName + \"[\")\n",
    "l = RT.TLegend(.85,.70,1,1)\n",
    "\n",
    "count = 0\n",
    "for ctau in pos_histos:\n",
    "    te = pos_histos[ctau]['ratio']\n",
    "    te.SetTitle(\"Geometric Efficiency Map; Z decay pos [mm]; \\epsilon\")\n",
    "    l.AddEntry(te, ctau)\n",
    "    if count > 0:\n",
    "        te.Draw('same')\n",
    "    else:\n",
    "        te.Draw()\n",
    "        count +=1\n",
    "l.Draw('same')\n",
    "c.Print(posAllFileName)\n",
    "c.Clear()\n",
    "    \n",
    "c.Print(posAllFileName + \"]\") #closes pdf\n",
    "c.Close() #closes canvas\n",
    "\n",
    "posFileName = 'posEff.pdf'\n",
    "c = RT.TCanvas()\n",
    "c.Print(posFileName + \"[\")\n",
    "    \n",
    "for ctau in pos_histos:\n",
    "    te = pos_histos[ctau]['ratio']\n",
    "    te.SetTitle(ctau+\"; Z decay pos [mm]; \\epsilon\")\n",
    "    te.Draw()\n",
    "    c.Print(posFileName)\n",
    "    c.Clear()\n",
    "    \n",
    "c.Print(posFileName + \"]\") #closes pdf\n",
    "c.Close() #closes canvas"
   ]
  },
  {
   "cell_type": "code",
   "execution_count": null,
   "id": "51312c4f",
   "metadata": {},
   "outputs": [],
   "source": []
  }
 ],
 "metadata": {
  "kernelspec": {
   "display_name": "Python 3 (ipykernel)",
   "language": "python",
   "name": "python3"
  },
  "language_info": {
   "codemirror_mode": {
    "name": "ipython",
    "version": 3
   },
   "file_extension": ".py",
   "mimetype": "text/x-python",
   "name": "python",
   "nbconvert_exporter": "python",
   "pygments_lexer": "ipython3",
   "version": "3.9.9"
  }
 },
 "nbformat": 4,
 "nbformat_minor": 5
}
