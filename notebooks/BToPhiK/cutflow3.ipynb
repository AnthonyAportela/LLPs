{
 "cells": [
  {
   "cell_type": "code",
   "execution_count": 1,
   "id": "21d1b251-becd-45d4-b843-d05492409ce2",
   "metadata": {},
   "outputs": [
    {
     "name": "stderr",
     "output_type": "stream",
     "text": [
      "/uscms_data/d3/aaportel/micromamba/envs/analysis-env/lib/python3.9/site-packages/coffea/util.py:154: FutureWarning: In coffea version v0.8.0 (target date: 31 Dec 2022), this will be an error.\n",
      "(Set coffea.deprecations_as_errors = True to get a stack trace now.)\n",
      "ImportError: coffea.hist is deprecated\n",
      "  warnings.warn(message, FutureWarning)\n"
     ]
    }
   ],
   "source": [
    "import awkward as ak\n",
    "import numpy as np\n",
    "import hist as hs\n",
    "from coffea import processor, hist as chs\n",
    "from coffea.nanoevents.methods import vector, candidate\n",
    "from numba import jit\n",
    "\n",
    "from coffea.nanoevents import BaseSchema\n",
    "import mplhep as hep\n",
    "import matplotlib.pyplot as plt\n",
    "from datetime import date\n",
    "today = date.today()\n",
    "\n",
    "plt.style.use(hep.style.CMS)"
   ]
  },
  {
   "cell_type": "code",
   "execution_count": 15,
   "id": "14a276d1-0261-4065-915f-108acec886c9",
   "metadata": {},
   "outputs": [],
   "source": [
    "class LLP_ntuple_processor(processor.ProcessorABC):\n",
    "    \"\"\"\n",
    "    This class is used to process the ntuples created by the LLP ntuple producer.\n",
    "    \"\"\"\n",
    "    \n",
    "    \n",
    "    def process(self, events):\n",
    "        \n",
    "        muoncut = abs(events.lepPdgId == 13)\n",
    "        events['muonE'] = events.lepE[muoncut]\n",
    "        events['muonPt'] = events.lepPt[muoncut]\n",
    "        events['muonEta'] = events.lepEta[muoncut]\n",
    "        events['muonPhi'] = events.lepPhi[muoncut]\n",
    "        events['muonPdgId'] = events.lepPdgId[muoncut]\n",
    "        events['muonDZ'] = events.lepDZ[muoncut]\n",
    "        events['muonLooseId'] = events.lepLooseId[muoncut]\n",
    "        events['muonTightId'] = events.lepTightId[muoncut]\n",
    "        \n",
    "        dataset = events.metadata['dataset']\n",
    "        out = {\n",
    "            dataset: {\n",
    "                \"entries\": len(events),\n",
    "            },\n",
    "            \"cuts\": {},\n",
    "            \"vars\": {},\n",
    "\n",
    "        }\n",
    "        \n",
    "        cuts = {}\n",
    "        \n",
    "        cuts['lead_muon_cut'] = (ak.max(events.muonPt, axis=1) == events.muonPt)\n",
    "        \n",
    "        cuts['muon_acc_cut'] = (ak.count(events.muonPhi, axis=1) > 0) #event level\n",
    "        \n",
    "        if events.metadata['dataset'] == 'signal':\n",
    "            cuts['llp_acc_cut'] = (events.gLLP_csc == 1) #event level\n",
    "            \n",
    "            \n",
    "        _ = lambda x: x\n",
    "        bins = 30\n",
    "        vrbls = {\n",
    "            'met':               [bins,    0, 100, _,   'metEENoise'],\n",
    "            'dphi':              [bins,    0,   5, _,   'cscRechitClusterMetEENoise_dPhi'],\n",
    "            'timeSpread':        [bins,    0,  20, _,   'cscRechitClusterTimeSpreadWeightedAll'],\n",
    "            'clsTimeWeighted':   [bins, -5.5,  13, _,   'cscRechitClusterTimeWeighted'],\n",
    "            'clsSize':           [bins,    0, 130, _,   'cscRechitClusterSize'],\n",
    "            'clsEta':            [bins,    0,   4, abs, 'cscRechitClusterEta'],\n",
    "            'NStation10':        [bins,  -10,  10, _,   'cscRechitClusterNStation10'],\n",
    "            'AvgStation10':      [bins,  -10,  10, _,   'cscRechitClusterAvgStation10'],\n",
    "            #'deltaR_muon_cls':   [bins,    0,   4, _,   'cscRechitCluster_deltaR_muon_cls'],\n",
    "            #'deltaEta_muon_cls': [bins,    0,   4, _,   'cscRechitCluster_deltaPhi_muon_cls'],\n",
    "            #'deltaPhi_muon_cls': [bins,    0,   4, _,   'cscRechitCluster_deltaEta_muon_cls'],\n",
    "        }\n",
    "        \n",
    "        def histmaker(var):\n",
    "            out[dataset][f'before'] = hs.Hist.new.Reg(30, 0, 4, name='before', label='before').Double()\n",
    "            out[dataset][f'before'].fill(ak.flatten(events.cscRechitClusterEta, axis=None))\n",
    "\n",
    " \n",
    "        \n",
    "        return out   \n",
    "    \n",
    "    def postprocess(self, accumulator):\n",
    "        return accumulator"
   ]
  },
  {
   "cell_type": "code",
   "execution_count": 16,
   "id": "8324c412-9ecd-4969-bd10-88aa97385137",
   "metadata": {},
   "outputs": [
    {
     "data": {
      "application/vnd.jupyter.widget-view+json": {
       "model_id": "7709bbb31ce2480dacd1d7a5a847410d",
       "version_major": 2,
       "version_minor": 0
      },
      "text/plain": [
       "Output()"
      ]
     },
     "metadata": {},
     "output_type": "display_data"
    },
    {
     "data": {
      "text/html": [
       "<pre style=\"white-space:pre;overflow-x:auto;line-height:normal;font-family:Menlo,'DejaVu Sans Mono',consolas,'Courier New',monospace\"></pre>\n"
      ],
      "text/plain": []
     },
     "metadata": {},
     "output_type": "display_data"
    },
    {
     "data": {
      "text/html": [
       "<pre style=\"white-space:pre;overflow-x:auto;line-height:normal;font-family:Menlo,'DejaVu Sans Mono',consolas,'Courier New',monospace\">\n",
       "</pre>\n"
      ],
      "text/plain": [
       "\n"
      ]
     },
     "metadata": {},
     "output_type": "display_data"
    }
   ],
   "source": [
    "date = today.strftime(\"%m_%d_%y\")\n",
    "\n",
    "fileset = {}\n",
    "fileset['signal']     = ['root://cmsxrootd.fnal.gov//store/group/phys_exotica/delayedjets/displacedJetMuonAnalyzer/csc/V1p17/MC_Fall18/v2/v3/normalized/BToKPhi_MuonGenFilter_mPhi1p0_ctau1000_1pb_weighted.root',]\n",
    "#fileset['background'] = ['root://cmsxrootd.fnal.gov//store/user/christiw/displacedJetMuonAnalyzer/csc/V1p171/Data2018_UL/v3/normalized/ParkingBPH4_Run2018A_goodLumi.root']\n",
    "out = processor.run_uproot_job(\n",
    "    fileset,\n",
    "    treename=\"MuonSystem\",\n",
    "    processor_instance=LLP_ntuple_processor(),\n",
    "    executor=processor.futures_executor,\n",
    "    executor_args={\"schema\": BaseSchema, \"workers\": 1},\n",
    "    maxchunks = 1\n",
    ")\n",
    "\n",
    "cuts = list(out['cuts'].keys())\n",
    "varnames = list(out['vars'].keys())"
   ]
  },
  {
   "cell_type": "code",
   "execution_count": 24,
   "id": "05ff522f-5d76-4c64-9461-467e0e2ded6d",
   "metadata": {},
   "outputs": [
    {
     "name": "stdout",
     "output_type": "stream",
     "text": [
      "3571.0\n",
      "3560.0\n"
     ]
    }
   ],
   "source": [
    "print(out['signal']['before'].sum())\n",
    "\n",
    "print(out['signal']['after'].sum())\n"
   ]
  },
  {
   "cell_type": "code",
   "execution_count": null,
   "id": "a455c83c-344e-407a-a413-30654646c290",
   "metadata": {},
   "outputs": [],
   "source": []
  }
 ],
 "metadata": {
  "kernelspec": {
   "display_name": "Python 3 (ipykernel)",
   "language": "python",
   "name": "python3"
  },
  "language_info": {
   "codemirror_mode": {
    "name": "ipython",
    "version": 3
   },
   "file_extension": ".py",
   "mimetype": "text/x-python",
   "name": "python",
   "nbconvert_exporter": "python",
   "pygments_lexer": "ipython3",
   "version": "3.9.13"
  }
 },
 "nbformat": 4,
 "nbformat_minor": 5
}
