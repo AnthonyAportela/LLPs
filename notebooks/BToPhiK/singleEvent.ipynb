{
 "cells": [
  {
   "cell_type": "code",
   "execution_count": 4,
   "metadata": {},
   "outputs": [],
   "source": [
    "import awkward as ak\n",
    "import uproot\n",
    "import hist as hs\n",
    "import numpy as np\n",
    "\n",
    "from coffea.nanoevents import NanoEventsFactory, BaseSchema, NanoAODSchema, TreeMakerSchema, PHYSLITESchema\n",
    "from coffea.nanoevents.methods import vector"
   ]
  },
  {
   "cell_type": "code",
   "execution_count": 5,
   "metadata": {},
   "outputs": [],
   "source": [
    "signaldomain     = 'root://cmsxrootd.fnal.gov//store/group/phys_exotica/delayedjets/displacedJetMuonAnalyzer/csc/V1p17/MC_Fall18/v2/v3/normalized/BToKPhi_MuonGenFilter_mPhi1p0_ctau1000_1pb_weighted.root'\n",
    "signalfile = uproot.open(signaldomain)\n",
    "\n",
    "backgrounddomain = 'root://cmsxrootd.fnal.gov//store/user/christiw/displacedJetMuonAnalyzer/csc/V1p171/Data2018_UL/v3/normalized/ParkingBPH4_Run2018A_goodLumi.root'\n",
    "backgroundfile = uproot.open(backgrounddomain)"
   ]
  },
  {
   "cell_type": "code",
   "execution_count": 6,
   "metadata": {},
   "outputs": [],
   "source": [
    "signalevents = NanoEventsFactory.from_root(\n",
    "    signalfile,\n",
    "    treepath='MuonSystem',\n",
    "    #entry_stop=10,\n",
    "    #metadata={\"dataset\": \"llp\"},\n",
    "    schemaclass=BaseSchema,\n",
    ").events()\n",
    "\n",
    "\n",
    "backgroundevents = NanoEventsFactory.from_root(\n",
    "    backgroundfile,\n",
    "    treepath='MuonSystem',\n",
    "    #entry_stop=10,\n",
    "    #metadata={\"dataset\": \"llp\"},\n",
    "    schemaclass=BaseSchema,\n",
    ").events()"
   ]
  },
  {
   "cell_type": "code",
   "execution_count": 4,
   "metadata": {},
   "outputs": [
    {
     "data": {
      "text/plain": [
       "['gLLP_eta',\n",
       " 'gLLP_phi',\n",
       " 'gLLP_csc',\n",
       " 'gLLP_dt',\n",
       " 'gLLP_beta',\n",
       " 'gLLP_e',\n",
       " 'gLLP_pt',\n",
       " 'gLLP_ctau',\n",
       " 'gLLP_decay_vertex_r',\n",
       " 'gLLP_decay_vertex_x',\n",
       " 'gLLP_decay_vertex_y',\n",
       " 'gLLP_decay_vertex_z']"
      ]
     },
     "execution_count": 4,
     "metadata": {},
     "output_type": "execute_result"
    }
   ],
   "source": [
    "[f'{field}' for field in signalevents.fields if field.startswith('gLLP_')]"
   ]
  },
  {
   "cell_type": "code",
   "execution_count": 51,
   "metadata": {},
   "outputs": [],
   "source": [
    "events = signalevents\n",
    "gLLPs = ak.zip(\n",
    "    {\n",
    "        'pt': events.gLLP_pt,\n",
    "        'phi': events.gLLP_phi,\n",
    "        'eta': events.gLLP_eta,\n",
    "        'E': events.gLLP_e,\n",
    "    },\n",
    "    with_name = 'PtEtaPhiMLorentzVector',\n",
    "    behavior = vector.behavior,                 \n",
    "  )\n",
    "\n",
    "clusts = ak.zip(\n",
    "    {\n",
    "        'pt': ak.zeros_like(events.cscRechitClusterPhi),\n",
    "        'phi': events.cscRechitClusterPhi,\n",
    "        'eta': events.cscRechitClusterEta,\n",
    "        'E': ak.zeros_like(events.cscRechitClusterPhi),\n",
    "    },\n",
    "    with_name = 'PtEtaPhiMLorentzVector',\n",
    "    behavior = vector.behavior,                 \n",
    "  )\n",
    "\n",
    "cls_llp_pairs = ak.cartesian({\n",
    "    \"cls\": clusts, \n",
    "    \"llp\": gLLPs\n",
    "}, nested = True)      "
   ]
  },
  {
   "cell_type": "code",
   "execution_count": 52,
   "metadata": {},
   "outputs": [
    {
     "name": "stdout",
     "output_type": "stream",
     "text": [
      "3758 [[{cls: {pt: 0, phi: -0.123, eta: -2.17, E: 0}, ... phi: 1, eta: -0.296, E: 11.1}}]]\n",
      "19880 [[{cls: {pt: 0, phi: 0.808, eta: 2.15, E: 0}, ... phi: 2.46, eta: -1.19, E: 8.19}}]]\n",
      "31643 [[{cls: {pt: 0, phi: 3.03, eta: -2.21, E: 0}, ... eta: -1.31, E: 13.2}}]]\n",
      "36723 [[{cls: {pt: 0, phi: 2.41, eta: -1.52, E: 0}, ... phi: 2.35, eta: -1.47, E: 5.78}}]]\n",
      "42071 [[{cls: {pt: 0, phi: 0.119, eta: -2.12, E: 0}, ... phi: 1.98, eta: 1.43, E: 5.57}}]]\n",
      "49002 [[{cls: {pt: 0, phi: -1.99, eta: -1.5, E: 0}, ... phi: 0.689, eta: -1.28, E: 16.5}}]]\n",
      "58202 [[{cls: {pt: 0, phi: -0.288, eta: -2.11, E: 0}, ... phi: 2.49, eta: -5.55, E: 381}}]]\n",
      "71349 [[{cls: {pt: 0, phi: 2.98, eta: 2.09, E: 0}, ... phi: 3, eta: 2.15, E: 4.74}}]]\n",
      "93105 [[{cls: {pt: 0, phi: -1.05, eta: -2.03, E: 0}, ... eta: -0.972, E: 2.74}}]]\n",
      "128389 [[{cls: {pt: 0, phi: -2.83, eta: 2.04, E: 0}, ... phi: 0.446, eta: 1.61, E: 20}}]]\n",
      "149775 [[{cls: {pt: 0, phi: 1.33, eta: 2.23, E: 0}, ... phi: -1.44, eta: 1.86, E: 15.7}}]]\n",
      "169235 [[{cls: {pt: 0, phi: 0.667, eta: 2.33, E: 0}, ... phi: -1.23, eta: 5.41, E: 593}}]]\n",
      "175163 [[{cls: {pt: 0, phi: -3.11, eta: 2.04, E: 0}, ... phi: -3.11, eta: 2.01, E: 17.6}}]]\n",
      "183874 [[{cls: {pt: 0, phi: 1.04, eta: 2.21, E: 0}, ... phi: -1.83, eta: -1.44, E: 9.33}}]]\n",
      "251446 [[{cls: {pt: 0, phi: -3, eta: -1.94, E: 0}, ... phi: -3.02, eta: -1.94, E: 7.24}}]]\n",
      "264030 [[{cls: {pt: 0, phi: 0.419, eta: 2.14, E: 0}, ... phi: 3.06, eta: -1.69, E: 6.69}}]]\n",
      "299714 [[{cls: {pt: 0, phi: 2.57, eta: 2, E: 0}, ... phi: 2.56, eta: 1.97, E: 11.4}}]]\n",
      "434642 [[{cls: {pt: 0, phi: -3.11, eta: 1.71, E: 0}, ... phi: -0.831, eta: 3.81, E: 45.3}}]]\n",
      "486503 [[{cls: {pt: 0, phi: 0.5, eta: 1.26, E: 0}, ... phi: 0.576, eta: 1.19, E: 14.8}}]]\n",
      "512602 [[{cls: {pt: 0, phi: 1.41, eta: 2.21, E: 0}, ... phi: -2.29, eta: -1.31, E: 26}}]]\n",
      "519899 [[{cls: {pt: 0, phi: 0.14, eta: 2.17, E: 0}, ... phi: -1.66, eta: -3.6, E: 20.6}}]]\n",
      "535839 [[{cls: {pt: 0, phi: 3.06, eta: 2.29, E: 0}, ... phi: 0.376, eta: 0.544, E: 11.8}}]]\n"
     ]
    },
    {
     "ename": "KeyboardInterrupt",
     "evalue": "",
     "output_type": "error",
     "traceback": [
      "\u001b[0;31m---------------------------------------------------------------------------\u001b[0m",
      "\u001b[0;31mKeyboardInterrupt\u001b[0m                         Traceback (most recent call last)",
      "Input \u001b[0;32mIn [52]\u001b[0m, in \u001b[0;36m<cell line: 1>\u001b[0;34m()\u001b[0m\n\u001b[0;32m----> 1\u001b[0m \u001b[38;5;28;01mfor\u001b[39;00m i, thing \u001b[38;5;129;01min\u001b[39;00m \u001b[38;5;28menumerate\u001b[39m(cls_llp_pairs):\n\u001b[1;32m      2\u001b[0m     \u001b[38;5;28;01mif\u001b[39;00m \u001b[38;5;28mlen\u001b[39m(thing) \u001b[38;5;241m>\u001b[39m \u001b[38;5;241m2\u001b[39m:\n\u001b[1;32m      3\u001b[0m         \u001b[38;5;28mprint\u001b[39m(i, thing)\n",
      "File \u001b[0;32m/uscms_data/d3/aaportel/micromamba/envs/analysis-env/lib/python3.9/site-packages/awkward/highlevel.py:576\u001b[0m, in \u001b[0;36mArray.__iter__\u001b[0;34m(self)\u001b[0m\n\u001b[1;32m    546\u001b[0m \u001b[38;5;124;03m\"\"\"\u001b[39;00m\n\u001b[1;32m    547\u001b[0m \u001b[38;5;124;03mIterates over this Array in Python.\u001b[39;00m\n\u001b[1;32m    548\u001b[0m \n\u001b[0;32m   (...)\u001b[0m\n\u001b[1;32m    573\u001b[0m \u001b[38;5;124;03mSee also #ak.to_list.\u001b[39;00m\n\u001b[1;32m    574\u001b[0m \u001b[38;5;124;03m\"\"\"\u001b[39;00m\n\u001b[1;32m    575\u001b[0m \u001b[38;5;28;01mfor\u001b[39;00m x \u001b[38;5;129;01min\u001b[39;00m \u001b[38;5;28mself\u001b[39m\u001b[38;5;241m.\u001b[39mlayout:\n\u001b[0;32m--> 576\u001b[0m     \u001b[38;5;28;01myield\u001b[39;00m \u001b[43mak\u001b[49m\u001b[38;5;241;43m.\u001b[39;49m\u001b[43m_util\u001b[49m\u001b[38;5;241;43m.\u001b[39;49m\u001b[43mwrap\u001b[49m\u001b[43m(\u001b[49m\u001b[43mx\u001b[49m\u001b[43m,\u001b[49m\u001b[43m \u001b[49m\u001b[38;5;28;43mself\u001b[39;49m\u001b[38;5;241;43m.\u001b[39;49m\u001b[43m_behavior\u001b[49m\u001b[43m)\u001b[49m\n",
      "File \u001b[0;32m/uscms_data/d3/aaportel/micromamba/envs/analysis-env/lib/python3.9/site-packages/awkward/_util.py:501\u001b[0m, in \u001b[0;36mwrap\u001b[0;34m(content, behavior)\u001b[0m\n\u001b[1;32m    499\u001b[0m \u001b[38;5;28;01mdef\u001b[39;00m \u001b[38;5;21mwrap\u001b[39m(content, behavior):\n\u001b[1;32m    500\u001b[0m     \u001b[38;5;28;01mif\u001b[39;00m \u001b[38;5;28misinstance\u001b[39m(content, (ak\u001b[38;5;241m.\u001b[39mlayout\u001b[38;5;241m.\u001b[39mContent, ak\u001b[38;5;241m.\u001b[39mpartition\u001b[38;5;241m.\u001b[39mPartitionedArray)):\n\u001b[0;32m--> 501\u001b[0m         \u001b[38;5;28;01mreturn\u001b[39;00m \u001b[43mak\u001b[49m\u001b[38;5;241;43m.\u001b[39;49m\u001b[43mhighlevel\u001b[49m\u001b[38;5;241;43m.\u001b[39;49m\u001b[43mArray\u001b[49m\u001b[43m(\u001b[49m\u001b[43mcontent\u001b[49m\u001b[43m,\u001b[49m\u001b[43m \u001b[49m\u001b[43mbehavior\u001b[49m\u001b[38;5;241;43m=\u001b[39;49m\u001b[43mbehavior\u001b[49m\u001b[43m,\u001b[49m\u001b[43m \u001b[49m\u001b[43mkernels\u001b[49m\u001b[38;5;241;43m=\u001b[39;49m\u001b[38;5;28;43;01mNone\u001b[39;49;00m\u001b[43m)\u001b[49m\n\u001b[1;32m    503\u001b[0m     \u001b[38;5;28;01melif\u001b[39;00m \u001b[38;5;28misinstance\u001b[39m(content, ak\u001b[38;5;241m.\u001b[39mlayout\u001b[38;5;241m.\u001b[39mRecord):\n\u001b[1;32m    504\u001b[0m         \u001b[38;5;28;01mreturn\u001b[39;00m ak\u001b[38;5;241m.\u001b[39mhighlevel\u001b[38;5;241m.\u001b[39mRecord(content, behavior\u001b[38;5;241m=\u001b[39mbehavior, kernels\u001b[38;5;241m=\u001b[39m\u001b[38;5;28;01mNone\u001b[39;00m)\n",
      "File \u001b[0;32m/uscms_data/d3/aaportel/micromamba/envs/analysis-env/lib/python3.9/site-packages/awkward/highlevel.py:254\u001b[0m, in \u001b[0;36mArray.__init__\u001b[0;34m(self, data, behavior, with_name, check_valid, cache, kernels)\u001b[0m\n\u001b[1;32m    249\u001b[0m \u001b[38;5;28;01melse\u001b[39;00m:\n\u001b[1;32m    250\u001b[0m     layout \u001b[38;5;241m=\u001b[39m ak\u001b[38;5;241m.\u001b[39moperations\u001b[38;5;241m.\u001b[39mconvert\u001b[38;5;241m.\u001b[39mfrom_iter(\n\u001b[1;32m    251\u001b[0m         data, highlevel\u001b[38;5;241m=\u001b[39m\u001b[38;5;28;01mFalse\u001b[39;00m, allow_record\u001b[38;5;241m=\u001b[39m\u001b[38;5;28;01mFalse\u001b[39;00m\n\u001b[1;32m    252\u001b[0m     )\n\u001b[0;32m--> 254\u001b[0m \u001b[38;5;28;01mif\u001b[39;00m \u001b[38;5;129;01mnot\u001b[39;00m \u001b[38;5;28;43misinstance\u001b[39;49m(layout, (ak\u001b[38;5;241m.\u001b[39mlayout\u001b[38;5;241m.\u001b[39mContent, ak\u001b[38;5;241m.\u001b[39mpartition\u001b[38;5;241m.\u001b[39mPartitionedArray)):\n\u001b[1;32m    255\u001b[0m     \u001b[38;5;28;01mraise\u001b[39;00m \u001b[38;5;167;01mTypeError\u001b[39;00m(\n\u001b[1;32m    256\u001b[0m         \u001b[38;5;124m\"\u001b[39m\u001b[38;5;124mcould not convert data into an ak.Array\u001b[39m\u001b[38;5;124m\"\u001b[39m\n\u001b[1;32m    257\u001b[0m         \u001b[38;5;241m+\u001b[39m ak\u001b[38;5;241m.\u001b[39m_util\u001b[38;5;241m.\u001b[39mexception_suffix(\u001b[38;5;18m__file__\u001b[39m)\n\u001b[1;32m    258\u001b[0m     )\n\u001b[1;32m    260\u001b[0m \u001b[38;5;28;01mif\u001b[39;00m with_name \u001b[38;5;129;01mis\u001b[39;00m \u001b[38;5;129;01mnot\u001b[39;00m \u001b[38;5;28;01mNone\u001b[39;00m:\n",
      "\u001b[0;31mKeyboardInterrupt\u001b[0m: "
     ]
    }
   ],
   "source": [
    "for i, thing in enumerate(cls_llp_pairs):\n",
    "    if len(thing) > 2:\n",
    "        print(i, thing)"
   ]
  },
  {
   "cell_type": "code",
   "execution_count": 36,
   "metadata": {},
   "outputs": [
    {
     "data": {
      "text/plain": [
       "<Array [-2.17, 2.07, 2.21] type='3 * float32[parameters={\"__doc__\": \"cscRechitCl...'>"
      ]
     },
     "execution_count": 36,
     "metadata": {},
     "output_type": "execute_result"
    }
   ],
   "source": [
    "events[3758].cscRechitClusterEta\n",
    "#events[3758].gLLP_eta"
   ]
  },
  {
   "cell_type": "code",
   "execution_count": 50,
   "metadata": {},
   "outputs": [
    {
     "data": {
      "text/plain": [
       "<Array [[{cls: {pt: 0, ... E: 11.1}}]] type='3 * 1 * {\"cls\": PtEtaPhiMLorentzVec...'>"
      ]
     },
     "execution_count": 50,
     "metadata": {},
     "output_type": "execute_result"
    }
   ],
   "source": []
  },
  {
   "cell_type": "code",
   "execution_count": null,
   "metadata": {},
   "outputs": [],
   "source": []
  }
 ],
 "metadata": {
  "kernelspec": {
   "display_name": "Python 3 (ipykernel)",
   "language": "python",
   "name": "python3"
  },
  "language_info": {
   "codemirror_mode": {
    "name": "ipython",
    "version": 3
   },
   "file_extension": ".py",
   "mimetype": "text/x-python",
   "name": "python",
   "nbconvert_exporter": "python",
   "pygments_lexer": "ipython3",
   "version": "3.9.13"
  }
 },
 "nbformat": 4,
 "nbformat_minor": 4
}
