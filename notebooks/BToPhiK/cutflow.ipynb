{
 "cells": [
  {
   "cell_type": "code",
   "execution_count": 3,
   "metadata": {},
   "outputs": [],
   "source": [
    "import awkward as ak\n",
    "import numpy as np\n",
    "import hist as hs\n",
    "from coffea import processor, hist as chs\n",
    "from coffea.nanoevents.methods import vector, candidate\n",
    "from numba import jit\n",
    "\n",
    "from coffea.nanoevents import BaseSchema\n",
    "import mplhep as hep\n",
    "import matplotlib.pyplot as plt\n",
    "plt.style.use(hep.style.CMS)"
   ]
  },
  {
   "cell_type": "code",
   "execution_count": 36,
   "metadata": {},
   "outputs": [],
   "source": [
    "class LLP_ntuple_processor(processor.ProcessorABC):\n",
    "    \"\"\"\n",
    "    This class is used to process the ntuples created by the LLP ntuple producer.\n",
    "    \"\"\"\n",
    "\n",
    "    def acc_cut(self, events):\n",
    "\n",
    "        cut = (events.gLLP_csc == 1)\n",
    "        return events[ak.any(cut, axis = -1)]\n",
    "\n",
    "    def csc_eff_cut(self, events):\n",
    "        \n",
    "        cut = (events.nCscRechitClusters >= 1)\n",
    "        return events[ak.any(cut, axis = -1)]\n",
    "\n",
    "    def muon_veto(self, events):\n",
    "        \n",
    "        cut = (events.cscRechitClusterMuonVetoPt < 20)\n",
    "        return events[ak.any(cut, axis = -1)]\n",
    "\n",
    "    def jet_cut(self, events):\n",
    "        \n",
    "        cut = (events.cscRechitClusterJetVetoPt < 10)\n",
    "        return events[ak.any(cut, axis = -1)]\n",
    "\n",
    "    def time_cut(self, events):\n",
    "\n",
    "        cut = ((events.cscRechitClusterTimeWeighted <= 12.5)&\n",
    "               (events.cscRechitClusterTimeWeighted >= -5  ))\n",
    "        return events[ak.any(cut, axis = -1)]\n",
    "\n",
    "    def ME11_veto(self, events):\n",
    "\n",
    "        cut = ((events.cscRechitClusterNRechitChamberPlus11 <= 0)&\n",
    "               (events.cscRechitClusterNRechitChamberMinus11 <= 0))\n",
    "        return events[ak.any(cut, axis = -1)]\n",
    "\n",
    "\n",
    "    def ME12_veto(self, events):\n",
    "\n",
    "        cut = ((events.cscRechitClusterNRechitChamberPlus12 <= 0)&\n",
    "               (events.cscRechitClusterNRechitChamberMinus12 <= 0))\n",
    "        return events[ak.any(cut, axis = -1)]\n",
    "\n",
    "\n",
    "    def re12_cut(self, events):\n",
    "        \n",
    "        cut = events.cscRechitCluster_match_RE12_0p4 == 0\n",
    "        return events[ak.any(cut, axis = -1)]\n",
    "\n",
    "    def mb1_cut(self, events):\n",
    "        \n",
    "        cut = events.cscRechitCluster_match_MB1Seg_0p4 == 0\n",
    "        return events[ak.any(cut, axis = -1)]\n",
    "\n",
    "    def rb1_cut(self, events):\n",
    "        \n",
    "        cut = events.cscRechitCluster_match_RB1_0p4 == 0\n",
    "        return events[ak.any(cut, axis = -1)]\n",
    "\n",
    "    def eta_cut(self, events):\n",
    "        \n",
    "        cut = abs(events.gLLP_eta) < 2 \n",
    "        return events[ak.any(cut, axis = -1)]\n",
    "\n",
    "    def time_spread_cut(self, events):\n",
    "    \n",
    "        cut = events.cscRechitClusterTimeSpreadWeightedAll <= 20\n",
    "        return events[ak.any(cut, axis = -1)]\n",
    "\n",
    "    def cut_based(self, events):\n",
    "    \n",
    "        cut = (((events.cscRechitClusterNStation10 > 1) & (abs(events.cscRechitClusterEta) < 1.9))|\n",
    "               ((events.cscRechitClusterNStation11 == 1) & (events.cscRechitClusterAvgStation10 == 4) & (abs(events.cscRechitClusterEta) < 1.8))|\n",
    "               ((events.cscRechitClusterNStation11 == 1) & (events.cscRechitClusterAvgStation10 == 3) & (abs(events.cscRechitClusterEta) < 1.6))|\n",
    "               ((events.cscRechitClusterNStation11 == 1) & (events.cscRechitClusterAvgStation10 == 2) & (abs(events.cscRechitClusterEta) < 1.6))|\n",
    "               ((events.cscRechitClusterNStation11 == 1) & (events.cscRechitClusterAvgStation10 == 1) & (abs(events.cscRechitClusterEta) < 1.1))\n",
    "            )\n",
    "        return events[ak.any(cut, axis = -1)]\n",
    "\n",
    "    def dphi_cut(self, events):\n",
    "    \n",
    "        cut = abs(events.cscRechitClusterMetEENoise_dPhi) < 0.75\n",
    "        return events[ak.any(cut, axis = -1)]\n",
    "\n",
    "    def nrechits_cut(self, events):\n",
    "\n",
    "        cut = events.cscRechitClusterSize > 130\n",
    "        return events[ak.any(cut, axis = -1)]\n",
    "\n",
    "\n",
    "    def process(self, events):\n",
    "\n",
    "        dataset = events.metadata['dataset']\n",
    "        sumw = ak.sum(events.weight)\n",
    "\n",
    "        out = {\n",
    "            dataset: {\n",
    "                \"entries\": len(events),\n",
    "                \"sumw\": sumw,\n",
    "            }\n",
    "        }\n",
    "         \n",
    "        #cuts = [self.acc_cut, self.csc_eff_cut, self.muon_veto, self.jet_cut, self.time_cut, self.ME11_veto, self.ME12_veto, self.re12_cut, self.mb1_cut, self.rb1_cut, self.eta_cut, self.time_spread_cut, self.cut_based, self.dphi_cut, self.nrechits_cut]\n",
    "\n",
    "        '''last = events\n",
    "        out[dataset]['total'] = len(last)\n",
    "        for cut in cuts:\n",
    "            last = cut(last)\n",
    "            out[dataset][cut.__name__] = len(last)'''\n",
    "\n",
    "        temp = self.acc_cut(events)\n",
    "        #print(temp)\n",
    "        out[dataset]['total'] = len(temp)\n",
    "\n",
    "        return out   \n",
    "    \n",
    "    def postprocess(self, accumulator):\n",
    "        return accumulator"
   ]
  },
  {
   "cell_type": "code",
   "execution_count": 37,
   "metadata": {},
   "outputs": [
    {
     "data": {
      "text/html": [
       "<pre style=\"white-space:pre;overflow-x:auto;line-height:normal;font-family:Menlo,'DejaVu Sans Mono',consolas,'Courier New',monospace\">     <span style=\"color: #000080; text-decoration-color: #000080; font-weight: bold\">Processing</span> <span style=\"color: #800080; text-decoration-color: #800080\">  0%</span> <span style=\"color: #3a3a3a; text-decoration-color: #3a3a3a\">━━━━━━━━━━━━━━━━━━━━━━━━━━━━━━━━━</span> <span style=\"color: #000080; text-decoration-color: #000080; font-weight: bold\">0/1</span> [ <span style=\"color: #808000; text-decoration-color: #808000\">0:00:00</span> &lt; <span style=\"color: #008080; text-decoration-color: #008080\">-:--:--</span> | <span style=\"color: #800000; text-decoration-color: #800000\">?</span>  <span style=\"color: #800000; text-decoration-color: #800000\">chunk/s</span> ]\n",
       "<span style=\"color: #000080; text-decoration-color: #000080; font-weight: bold\">Merging (local)</span> <span style=\"color: #800080; text-decoration-color: #800080\">  0%</span> <span style=\"color: #729c1f; text-decoration-color: #729c1f\">━━━━━━━━━━━━━━━━━━━━━━━━━━━━━━━━━</span> <span style=\"color: #000080; text-decoration-color: #000080; font-weight: bold\">0/0</span> [ <span style=\"color: #808000; text-decoration-color: #808000\">0:00:00</span> &lt; <span style=\"color: #008080; text-decoration-color: #008080\">-:--:--</span> | <span style=\"color: #800000; text-decoration-color: #800000\">?</span> <span style=\"color: #800000; text-decoration-color: #800000\">merges/s</span> ]\n",
       "</pre>\n"
      ],
      "text/plain": [
       "     \u001b[1;34mProcessing\u001b[0m \u001b[35m  0%\u001b[0m \u001b[38;5;237m━━━━━━━━━━━━━━━━━━━━━━━━━━━━━━━━━\u001b[0m \u001b[1;34m0/1\u001b[0m [ \u001b[33m0:00:00\u001b[0m < \u001b[36m-:--:--\u001b[0m | \u001b[31m?\u001b[0m  \u001b[31mchunk/s\u001b[0m ]\n",
       "\u001b[1;34mMerging (local)\u001b[0m \u001b[35m  0%\u001b[0m \u001b[38;2;114;156;31m━━━━━━━━━━━━━━━━━━━━━━━━━━━━━━━━━\u001b[0m \u001b[1;34m0/0\u001b[0m [ \u001b[33m0:00:00\u001b[0m < \u001b[36m-:--:--\u001b[0m | \u001b[31m?\u001b[0m \u001b[31mmerges/s\u001b[0m ]\n"
      ]
     },
     "metadata": {},
     "output_type": "display_data"
    },
    {
     "name": "stdout",
     "output_type": "stream",
     "text": [
      "... False], dtRechitClusterMetEENoise_dPhi: [1.02], weight: 1.21e-06}\n"
     ]
    },
    {
     "data": {
      "text/html": [
       "<pre style=\"white-space:pre;overflow-x:auto;line-height:normal;font-family:Menlo,'DejaVu Sans Mono',consolas,'Courier New',monospace\"></pre>\n"
      ],
      "text/plain": []
     },
     "metadata": {},
     "output_type": "display_data"
    },
    {
     "data": {
      "text/html": [
       "<pre style=\"white-space:pre;overflow-x:auto;line-height:normal;font-family:Menlo,'DejaVu Sans Mono',consolas,'Courier New',monospace\">\n",
       "</pre>\n"
      ],
      "text/plain": [
       "\n"
      ]
     },
     "metadata": {},
     "output_type": "display_data"
    },
    {
     "name": "stderr",
     "output_type": "stream",
     "text": [
      "concurrent.futures.process._RemoteTraceback: \n",
      "\"\"\"\n",
      "Traceback (most recent call last):\n",
      "  File \"/uscms_data/d3/aaportel/mambaforge/envs/analysis-env/lib/python3.9/site-packages/coffea/processor/executor.py\", line 1635, in _work_function\n",
      "    out = processor_instance.process(events)\n",
      "  File \"/tmp/ipykernel_15223/1817244852.py\", line 114, in process\n",
      "    out[dataset]['total'] = len(temp)\n",
      "TypeError: object of type 'NanoEventsRecord' has no len()\n",
      "\n",
      "The above exception was the direct cause of the following exception:\n",
      "\n",
      "Traceback (most recent call last):\n",
      "  File \"/uscms_data/d3/aaportel/mambaforge/envs/analysis-env/lib/python3.9/concurrent/futures/process.py\", line 246, in _process_worker\n",
      "    r = call_item.fn(*call_item.args, **call_item.kwargs)\n",
      "  File \"/uscms_data/d3/aaportel/mambaforge/envs/analysis-env/lib/python3.9/site-packages/coffea/processor/executor.py\", line 220, in __call__\n",
      "    out = self.function(*args, **kwargs)\n",
      "  File \"/uscms_data/d3/aaportel/mambaforge/envs/analysis-env/lib/python3.9/site-packages/coffea/processor/executor.py\", line 1350, in automatic_retries\n",
      "    raise e\n",
      "  File \"/uscms_data/d3/aaportel/mambaforge/envs/analysis-env/lib/python3.9/site-packages/coffea/processor/executor.py\", line 1335, in automatic_retries\n",
      "    return func(*args, **kwargs)\n",
      "  File \"/uscms_data/d3/aaportel/mambaforge/envs/analysis-env/lib/python3.9/site-packages/coffea/processor/executor.py\", line 1637, in _work_function\n",
      "    raise Exception(f\"Failed processing file: {item!r}\") from e\n",
      "Exception: Failed processing file: WorkItem(dataset='BToPhiK', filename='root://cmsxrootd.fnal.gov//store/group/phys_exotica/delayedjets/displacedJetMuonAnalyzer/csc/V1p17/MC_Fall18/v2/v3/normalized/BToKPhi_MuonGenFilter_mPhi1p0_ctau1000_1pb_weighted.root', treename='MuonSystem', entrystart=0, entrystop=102974, fileuuid=b'\\xec\\xaf\\xa3\\x90\\xf75\\x11\\xec\\xab\\x03f\\n\\x03\\n\\xbe\\xef', usermeta={})\n",
      "\"\"\"\n",
      "\n",
      "The above exception was the direct cause of the following exception:\n",
      "\n",
      "Traceback (most recent call last):\n",
      "  File \"/uscms_data/d3/aaportel/mambaforge/envs/analysis-env/lib/python3.9/site-packages/coffea/processor/executor.py\", line 784, in _processwith\n",
      "    merged = _watcher(FH, self, reducer, pool)\n",
      "  File \"/uscms_data/d3/aaportel/mambaforge/envs/analysis-env/lib/python3.9/site-packages/coffea/processor/executor.py\", line 401, in _watcher\n",
      "    batch = FH.fetch(len(FH.completed))\n",
      "  File \"/uscms_data/d3/aaportel/mambaforge/envs/analysis-env/lib/python3.9/site-packages/coffea/processor/executor.py\", line 285, in fetch\n",
      "    raise bad_futures[0].exception()\n",
      "Exception: Failed processing file: WorkItem(dataset='BToPhiK', filename='root://cmsxrootd.fnal.gov//store/group/phys_exotica/delayedjets/displacedJetMuonAnalyzer/csc/V1p17/MC_Fall18/v2/v3/normalized/BToKPhi_MuonGenFilter_mPhi1p0_ctau1000_1pb_weighted.root', treename='MuonSystem', entrystart=0, entrystop=102974, fileuuid=b'\\xec\\xaf\\xa3\\x90\\xf75\\x11\\xec\\xab\\x03f\\n\\x03\\n\\xbe\\xef', usermeta={})\n"
     ]
    },
    {
     "ename": "Exception",
     "evalue": "Failed processing file: WorkItem(dataset='BToPhiK', filename='root://cmsxrootd.fnal.gov//store/group/phys_exotica/delayedjets/displacedJetMuonAnalyzer/csc/V1p17/MC_Fall18/v2/v3/normalized/BToKPhi_MuonGenFilter_mPhi1p0_ctau1000_1pb_weighted.root', treename='MuonSystem', entrystart=0, entrystop=102974, fileuuid=b'\\xec\\xaf\\xa3\\x90\\xf75\\x11\\xec\\xab\\x03f\\n\\x03\\n\\xbe\\xef', usermeta={})",
     "output_type": "error",
     "traceback": [
      "\u001b[0;31m---------------------------------------------------------------------------\u001b[0m",
      "\u001b[0;31mException\u001b[0m                                 Traceback (most recent call last)",
      "\u001b[1;32m/home/aaportel/LLPs/notebooks/BToPhiK/cutflow.ipynb Cell 3'\u001b[0m in \u001b[0;36m<cell line: 4>\u001b[0;34m()\u001b[0m\n\u001b[1;32m      <a href='vscode-notebook-cell:/home/aaportel/LLPs/notebooks/BToPhiK/cutflow.ipynb#ch0000002?line=0'>1</a>\u001b[0m fileset \u001b[39m=\u001b[39m {}\n\u001b[1;32m      <a href='vscode-notebook-cell:/home/aaportel/LLPs/notebooks/BToPhiK/cutflow.ipynb#ch0000002?line=1'>2</a>\u001b[0m fileset[\u001b[39m'\u001b[39m\u001b[39mBToPhiK\u001b[39m\u001b[39m'\u001b[39m] \u001b[39m=\u001b[39m [\u001b[39m'\u001b[39m\u001b[39mroot://cmsxrootd.fnal.gov//store/group/phys_exotica/delayedjets/displacedJetMuonAnalyzer/csc/V1p17/MC_Fall18/v2/v3/normalized/BToKPhi_MuonGenFilter_mPhi1p0_ctau1000_1pb_weighted.root\u001b[39m\u001b[39m'\u001b[39m,]\n\u001b[0;32m----> <a href='vscode-notebook-cell:/home/aaportel/LLPs/notebooks/BToPhiK/cutflow.ipynb#ch0000002?line=3'>4</a>\u001b[0m out \u001b[39m=\u001b[39m processor\u001b[39m.\u001b[39;49mrun_uproot_job(\n\u001b[1;32m      <a href='vscode-notebook-cell:/home/aaportel/LLPs/notebooks/BToPhiK/cutflow.ipynb#ch0000002?line=4'>5</a>\u001b[0m     fileset,\n\u001b[1;32m      <a href='vscode-notebook-cell:/home/aaportel/LLPs/notebooks/BToPhiK/cutflow.ipynb#ch0000002?line=5'>6</a>\u001b[0m     treename\u001b[39m=\u001b[39;49m\u001b[39m\"\u001b[39;49m\u001b[39mMuonSystem\u001b[39;49m\u001b[39m\"\u001b[39;49m,\n\u001b[1;32m      <a href='vscode-notebook-cell:/home/aaportel/LLPs/notebooks/BToPhiK/cutflow.ipynb#ch0000002?line=6'>7</a>\u001b[0m     processor_instance\u001b[39m=\u001b[39;49mLLP_ntuple_processor(),\n\u001b[1;32m      <a href='vscode-notebook-cell:/home/aaportel/LLPs/notebooks/BToPhiK/cutflow.ipynb#ch0000002?line=7'>8</a>\u001b[0m     executor\u001b[39m=\u001b[39;49mprocessor\u001b[39m.\u001b[39;49mfutures_executor,\n\u001b[1;32m      <a href='vscode-notebook-cell:/home/aaportel/LLPs/notebooks/BToPhiK/cutflow.ipynb#ch0000002?line=8'>9</a>\u001b[0m     executor_args\u001b[39m=\u001b[39;49m{\u001b[39m\"\u001b[39;49m\u001b[39mschema\u001b[39;49m\u001b[39m\"\u001b[39;49m: BaseSchema, \u001b[39m\"\u001b[39;49m\u001b[39mworkers\u001b[39;49m\u001b[39m\"\u001b[39;49m: \u001b[39m1\u001b[39;49m},\n\u001b[1;32m     <a href='vscode-notebook-cell:/home/aaportel/LLPs/notebooks/BToPhiK/cutflow.ipynb#ch0000002?line=9'>10</a>\u001b[0m     maxchunks \u001b[39m=\u001b[39;49m \u001b[39m1\u001b[39;49m\n\u001b[1;32m     <a href='vscode-notebook-cell:/home/aaportel/LLPs/notebooks/BToPhiK/cutflow.ipynb#ch0000002?line=10'>11</a>\u001b[0m )\n",
      "File \u001b[0;32m/uscms_data/d3/aaportel/mambaforge/envs/analysis-env/lib/python3.9/site-packages/coffea/processor/__init__.py:104\u001b[0m, in \u001b[0;36m_run_x_job\u001b[0;34m(fileset, treename, processor_instance, executor, executor_args, pre_executor, pre_args, chunksize, maxchunks, metadata_cache, dynamic_chunksize, format)\u001b[0m\n\u001b[1;32m     <a href='file:///uscms_data/d3/aaportel/mambaforge/envs/analysis-env/lib/python3.9/site-packages/coffea/processor/__init__.py?line=92'>93</a>\u001b[0m \u001b[39m# make Runner instance, assume other args are for _work_function & co.\u001b[39;00m\n\u001b[1;32m     <a href='file:///uscms_data/d3/aaportel/mambaforge/envs/analysis-env/lib/python3.9/site-packages/coffea/processor/__init__.py?line=93'>94</a>\u001b[0m run \u001b[39m=\u001b[39m Runner(\n\u001b[1;32m     <a href='file:///uscms_data/d3/aaportel/mambaforge/envs/analysis-env/lib/python3.9/site-packages/coffea/processor/__init__.py?line=94'>95</a>\u001b[0m     executor\u001b[39m=\u001b[39mexecutor,\n\u001b[1;32m     <a href='file:///uscms_data/d3/aaportel/mambaforge/envs/analysis-env/lib/python3.9/site-packages/coffea/processor/__init__.py?line=95'>96</a>\u001b[0m     chunksize\u001b[39m=\u001b[39mchunksize,\n\u001b[0;32m   (...)\u001b[0m\n\u001b[1;32m    <a href='file:///uscms_data/d3/aaportel/mambaforge/envs/analysis-env/lib/python3.9/site-packages/coffea/processor/__init__.py?line=100'>101</a>\u001b[0m     \u001b[39m*\u001b[39m\u001b[39m*\u001b[39mexecutor_args,\n\u001b[1;32m    <a href='file:///uscms_data/d3/aaportel/mambaforge/envs/analysis-env/lib/python3.9/site-packages/coffea/processor/__init__.py?line=101'>102</a>\u001b[0m )\n\u001b[0;32m--> <a href='file:///uscms_data/d3/aaportel/mambaforge/envs/analysis-env/lib/python3.9/site-packages/coffea/processor/__init__.py?line=103'>104</a>\u001b[0m \u001b[39mreturn\u001b[39;00m run(\n\u001b[1;32m    <a href='file:///uscms_data/d3/aaportel/mambaforge/envs/analysis-env/lib/python3.9/site-packages/coffea/processor/__init__.py?line=104'>105</a>\u001b[0m     fileset,\n\u001b[1;32m    <a href='file:///uscms_data/d3/aaportel/mambaforge/envs/analysis-env/lib/python3.9/site-packages/coffea/processor/__init__.py?line=105'>106</a>\u001b[0m     treename,\n\u001b[1;32m    <a href='file:///uscms_data/d3/aaportel/mambaforge/envs/analysis-env/lib/python3.9/site-packages/coffea/processor/__init__.py?line=106'>107</a>\u001b[0m     processor_instance\u001b[39m=\u001b[39;49mprocessor_instance,\n\u001b[1;32m    <a href='file:///uscms_data/d3/aaportel/mambaforge/envs/analysis-env/lib/python3.9/site-packages/coffea/processor/__init__.py?line=107'>108</a>\u001b[0m )\n",
      "File \u001b[0;32m/uscms_data/d3/aaportel/mambaforge/envs/analysis-env/lib/python3.9/site-packages/coffea/processor/executor.py:1681\u001b[0m, in \u001b[0;36mRunner.__call__\u001b[0;34m(self, fileset, treename, processor_instance)\u001b[0m\n\u001b[1;32m   <a href='file:///uscms_data/d3/aaportel/mambaforge/envs/analysis-env/lib/python3.9/site-packages/coffea/processor/executor.py?line=1659'>1660</a>\u001b[0m \u001b[39mdef\u001b[39;00m \u001b[39m__call__\u001b[39m(\n\u001b[1;32m   <a href='file:///uscms_data/d3/aaportel/mambaforge/envs/analysis-env/lib/python3.9/site-packages/coffea/processor/executor.py?line=1660'>1661</a>\u001b[0m     \u001b[39mself\u001b[39m,\n\u001b[1;32m   <a href='file:///uscms_data/d3/aaportel/mambaforge/envs/analysis-env/lib/python3.9/site-packages/coffea/processor/executor.py?line=1661'>1662</a>\u001b[0m     fileset: Dict,\n\u001b[1;32m   <a href='file:///uscms_data/d3/aaportel/mambaforge/envs/analysis-env/lib/python3.9/site-packages/coffea/processor/executor.py?line=1662'>1663</a>\u001b[0m     treename: \u001b[39mstr\u001b[39m,\n\u001b[1;32m   <a href='file:///uscms_data/d3/aaportel/mambaforge/envs/analysis-env/lib/python3.9/site-packages/coffea/processor/executor.py?line=1663'>1664</a>\u001b[0m     processor_instance: ProcessorABC,\n\u001b[1;32m   <a href='file:///uscms_data/d3/aaportel/mambaforge/envs/analysis-env/lib/python3.9/site-packages/coffea/processor/executor.py?line=1664'>1665</a>\u001b[0m ) \u001b[39m-\u001b[39m\u001b[39m>\u001b[39m Accumulatable:\n\u001b[1;32m   <a href='file:///uscms_data/d3/aaportel/mambaforge/envs/analysis-env/lib/python3.9/site-packages/coffea/processor/executor.py?line=1665'>1666</a>\u001b[0m     \u001b[39m\"\"\"Run the processor_instance on a given fileset\u001b[39;00m\n\u001b[1;32m   <a href='file:///uscms_data/d3/aaportel/mambaforge/envs/analysis-env/lib/python3.9/site-packages/coffea/processor/executor.py?line=1666'>1667</a>\u001b[0m \n\u001b[1;32m   <a href='file:///uscms_data/d3/aaportel/mambaforge/envs/analysis-env/lib/python3.9/site-packages/coffea/processor/executor.py?line=1667'>1668</a>\u001b[0m \u001b[39m    Parameters\u001b[39;00m\n\u001b[0;32m   (...)\u001b[0m\n\u001b[1;32m   <a href='file:///uscms_data/d3/aaportel/mambaforge/envs/analysis-env/lib/python3.9/site-packages/coffea/processor/executor.py?line=1677'>1678</a>\u001b[0m \u001b[39m            An instance of a class deriving from ProcessorABC\u001b[39;00m\n\u001b[1;32m   <a href='file:///uscms_data/d3/aaportel/mambaforge/envs/analysis-env/lib/python3.9/site-packages/coffea/processor/executor.py?line=1678'>1679</a>\u001b[0m \u001b[39m    \"\"\"\u001b[39;00m\n\u001b[0;32m-> <a href='file:///uscms_data/d3/aaportel/mambaforge/envs/analysis-env/lib/python3.9/site-packages/coffea/processor/executor.py?line=1680'>1681</a>\u001b[0m     wrapped_out \u001b[39m=\u001b[39m \u001b[39mself\u001b[39;49m\u001b[39m.\u001b[39;49mrun(fileset, processor_instance, treename)\n\u001b[1;32m   <a href='file:///uscms_data/d3/aaportel/mambaforge/envs/analysis-env/lib/python3.9/site-packages/coffea/processor/executor.py?line=1681'>1682</a>\u001b[0m     \u001b[39mif\u001b[39;00m \u001b[39mself\u001b[39m\u001b[39m.\u001b[39muse_dataframes:\n\u001b[1;32m   <a href='file:///uscms_data/d3/aaportel/mambaforge/envs/analysis-env/lib/python3.9/site-packages/coffea/processor/executor.py?line=1682'>1683</a>\u001b[0m         \u001b[39mreturn\u001b[39;00m wrapped_out  \u001b[39m# not wrapped anymore\u001b[39;00m\n",
      "File \u001b[0;32m/uscms_data/d3/aaportel/mambaforge/envs/analysis-env/lib/python3.9/site-packages/coffea/processor/executor.py:1831\u001b[0m, in \u001b[0;36mRunner.run\u001b[0;34m(self, fileset, processor_instance, treename)\u001b[0m\n\u001b[1;32m   <a href='file:///uscms_data/d3/aaportel/mambaforge/envs/analysis-env/lib/python3.9/site-packages/coffea/processor/executor.py?line=1824'>1825</a>\u001b[0m closure \u001b[39m=\u001b[39m partial(\n\u001b[1;32m   <a href='file:///uscms_data/d3/aaportel/mambaforge/envs/analysis-env/lib/python3.9/site-packages/coffea/processor/executor.py?line=1825'>1826</a>\u001b[0m     \u001b[39mself\u001b[39m\u001b[39m.\u001b[39mautomatic_retries, \u001b[39mself\u001b[39m\u001b[39m.\u001b[39mretries, \u001b[39mself\u001b[39m\u001b[39m.\u001b[39mskipbadfiles, closure\n\u001b[1;32m   <a href='file:///uscms_data/d3/aaportel/mambaforge/envs/analysis-env/lib/python3.9/site-packages/coffea/processor/executor.py?line=1826'>1827</a>\u001b[0m )\n\u001b[1;32m   <a href='file:///uscms_data/d3/aaportel/mambaforge/envs/analysis-env/lib/python3.9/site-packages/coffea/processor/executor.py?line=1828'>1829</a>\u001b[0m executor \u001b[39m=\u001b[39m \u001b[39mself\u001b[39m\u001b[39m.\u001b[39mexecutor\u001b[39m.\u001b[39mcopy(\u001b[39m*\u001b[39m\u001b[39m*\u001b[39mexe_args)\n\u001b[0;32m-> <a href='file:///uscms_data/d3/aaportel/mambaforge/envs/analysis-env/lib/python3.9/site-packages/coffea/processor/executor.py?line=1830'>1831</a>\u001b[0m wrapped_out, e \u001b[39m=\u001b[39m executor(chunks, closure, \u001b[39mNone\u001b[39;49;00m)\n\u001b[1;32m   <a href='file:///uscms_data/d3/aaportel/mambaforge/envs/analysis-env/lib/python3.9/site-packages/coffea/processor/executor.py?line=1831'>1832</a>\u001b[0m \u001b[39mif\u001b[39;00m wrapped_out \u001b[39mis\u001b[39;00m \u001b[39mNone\u001b[39;00m:\n\u001b[1;32m   <a href='file:///uscms_data/d3/aaportel/mambaforge/envs/analysis-env/lib/python3.9/site-packages/coffea/processor/executor.py?line=1832'>1833</a>\u001b[0m     \u001b[39mraise\u001b[39;00m \u001b[39mValueError\u001b[39;00m(\n\u001b[1;32m   <a href='file:///uscms_data/d3/aaportel/mambaforge/envs/analysis-env/lib/python3.9/site-packages/coffea/processor/executor.py?line=1833'>1834</a>\u001b[0m         \u001b[39m\"\u001b[39m\u001b[39mNo chunks returned results, verify ``processor`` instance structure.\u001b[39m\u001b[39m\"\u001b[39m\n\u001b[1;32m   <a href='file:///uscms_data/d3/aaportel/mambaforge/envs/analysis-env/lib/python3.9/site-packages/coffea/processor/executor.py?line=1834'>1835</a>\u001b[0m     )\n",
      "File \u001b[0;32m/uscms_data/d3/aaportel/mambaforge/envs/analysis-env/lib/python3.9/site-packages/coffea/processor/executor.py:816\u001b[0m, in \u001b[0;36mFuturesExecutor.__call__\u001b[0;34m(self, items, function, accumulator)\u001b[0m\n\u001b[1;32m    <a href='file:///uscms_data/d3/aaportel/mambaforge/envs/analysis-env/lib/python3.9/site-packages/coffea/processor/executor.py?line=813'>814</a>\u001b[0m \u001b[39melse\u001b[39;00m:\n\u001b[1;32m    <a href='file:///uscms_data/d3/aaportel/mambaforge/envs/analysis-env/lib/python3.9/site-packages/coffea/processor/executor.py?line=814'>815</a>\u001b[0m     mergepoolinstance \u001b[39m=\u001b[39m \u001b[39mNone\u001b[39;00m\n\u001b[0;32m--> <a href='file:///uscms_data/d3/aaportel/mambaforge/envs/analysis-env/lib/python3.9/site-packages/coffea/processor/executor.py?line=815'>816</a>\u001b[0m \u001b[39mreturn\u001b[39;00m _processwith(pool\u001b[39m=\u001b[39;49mpoolinstance, mergepool\u001b[39m=\u001b[39;49mmergepoolinstance)\n",
      "File \u001b[0;32m/uscms_data/d3/aaportel/mambaforge/envs/analysis-env/lib/python3.9/site-packages/coffea/processor/executor.py:800\u001b[0m, in \u001b[0;36mFuturesExecutor.__call__.<locals>._processwith\u001b[0;34m(pool, mergepool)\u001b[0m\n\u001b[1;32m    <a href='file:///uscms_data/d3/aaportel/mambaforge/envs/analysis-env/lib/python3.9/site-packages/coffea/processor/executor.py?line=796'>797</a>\u001b[0m     \u001b[39mreturn\u001b[39;00m accumulate([_decompress(merged), accumulator]), e\n\u001b[1;32m    <a href='file:///uscms_data/d3/aaportel/mambaforge/envs/analysis-env/lib/python3.9/site-packages/coffea/processor/executor.py?line=797'>798</a>\u001b[0m \u001b[39melse\u001b[39;00m:\n\u001b[0;32m--> <a href='file:///uscms_data/d3/aaportel/mambaforge/envs/analysis-env/lib/python3.9/site-packages/coffea/processor/executor.py?line=799'>800</a>\u001b[0m     \u001b[39mraise\u001b[39;00m e \u001b[39mfrom\u001b[39;00m \u001b[39mNone\u001b[39m\n",
      "File \u001b[0;32m/uscms_data/d3/aaportel/mambaforge/envs/analysis-env/lib/python3.9/site-packages/coffea/processor/executor.py:784\u001b[0m, in \u001b[0;36mFuturesExecutor.__call__.<locals>._processwith\u001b[0;34m(pool, mergepool)\u001b[0m\n\u001b[1;32m    <a href='file:///uscms_data/d3/aaportel/mambaforge/envs/analysis-env/lib/python3.9/site-packages/coffea/processor/executor.py?line=781'>782</a>\u001b[0m \u001b[39mtry\u001b[39;00m:\n\u001b[1;32m    <a href='file:///uscms_data/d3/aaportel/mambaforge/envs/analysis-env/lib/python3.9/site-packages/coffea/processor/executor.py?line=782'>783</a>\u001b[0m     \u001b[39mif\u001b[39;00m mergepool \u001b[39mis\u001b[39;00m \u001b[39mNone\u001b[39;00m:\n\u001b[0;32m--> <a href='file:///uscms_data/d3/aaportel/mambaforge/envs/analysis-env/lib/python3.9/site-packages/coffea/processor/executor.py?line=783'>784</a>\u001b[0m         merged \u001b[39m=\u001b[39m _watcher(FH, \u001b[39mself\u001b[39;49m, reducer, pool)\n\u001b[1;32m    <a href='file:///uscms_data/d3/aaportel/mambaforge/envs/analysis-env/lib/python3.9/site-packages/coffea/processor/executor.py?line=784'>785</a>\u001b[0m     \u001b[39melse\u001b[39;00m:\n\u001b[1;32m    <a href='file:///uscms_data/d3/aaportel/mambaforge/envs/analysis-env/lib/python3.9/site-packages/coffea/processor/executor.py?line=785'>786</a>\u001b[0m         merged \u001b[39m=\u001b[39m _watcher(FH, \u001b[39mself\u001b[39m, reducer, mergepool)\n",
      "File \u001b[0;32m/uscms_data/d3/aaportel/mambaforge/envs/analysis-env/lib/python3.9/site-packages/coffea/processor/executor.py:401\u001b[0m, in \u001b[0;36m_watcher\u001b[0;34m(FH, executor, merge_fcn, pool)\u001b[0m\n\u001b[1;32m    <a href='file:///uscms_data/d3/aaportel/mambaforge/envs/analysis-env/lib/python3.9/site-packages/coffea/processor/executor.py?line=394'>395</a>\u001b[0m             progress\u001b[39m.\u001b[39mupdate(\n\u001b[1;32m    <a href='file:///uscms_data/d3/aaportel/mambaforge/envs/analysis-env/lib/python3.9/site-packages/coffea/processor/executor.py?line=395'>396</a>\u001b[0m                 p_idm,\n\u001b[1;32m    <a href='file:///uscms_data/d3/aaportel/mambaforge/envs/analysis-env/lib/python3.9/site-packages/coffea/processor/executor.py?line=396'>397</a>\u001b[0m                 total\u001b[39m=\u001b[39mprogress\u001b[39m.\u001b[39m_tasks[p_idm]\u001b[39m.\u001b[39mtotal \u001b[39m+\u001b[39m \u001b[39m1\u001b[39m,\n\u001b[1;32m    <a href='file:///uscms_data/d3/aaportel/mambaforge/envs/analysis-env/lib/python3.9/site-packages/coffea/processor/executor.py?line=397'>398</a>\u001b[0m                 refresh\u001b[39m=\u001b[39m\u001b[39mTrue\u001b[39;00m,\n\u001b[1;32m    <a href='file:///uscms_data/d3/aaportel/mambaforge/envs/analysis-env/lib/python3.9/site-packages/coffea/processor/executor.py?line=398'>399</a>\u001b[0m             )\n\u001b[1;32m    <a href='file:///uscms_data/d3/aaportel/mambaforge/envs/analysis-env/lib/python3.9/site-packages/coffea/processor/executor.py?line=399'>400</a>\u001b[0m     \u001b[39melse\u001b[39;00m:  \u001b[39m# Merge within process\u001b[39;00m\n\u001b[0;32m--> <a href='file:///uscms_data/d3/aaportel/mambaforge/envs/analysis-env/lib/python3.9/site-packages/coffea/processor/executor.py?line=400'>401</a>\u001b[0m         batch \u001b[39m=\u001b[39m FH\u001b[39m.\u001b[39;49mfetch(\u001b[39mlen\u001b[39;49m(FH\u001b[39m.\u001b[39;49mcompleted))\n\u001b[1;32m    <a href='file:///uscms_data/d3/aaportel/mambaforge/envs/analysis-env/lib/python3.9/site-packages/coffea/processor/executor.py?line=401'>402</a>\u001b[0m         merged \u001b[39m=\u001b[39m _compress(\n\u001b[1;32m    <a href='file:///uscms_data/d3/aaportel/mambaforge/envs/analysis-env/lib/python3.9/site-packages/coffea/processor/executor.py?line=402'>403</a>\u001b[0m             accumulate(\n\u001b[1;32m    <a href='file:///uscms_data/d3/aaportel/mambaforge/envs/analysis-env/lib/python3.9/site-packages/coffea/processor/executor.py?line=403'>404</a>\u001b[0m                 progress\u001b[39m.\u001b[39mtrack(\n\u001b[0;32m   (...)\u001b[0m\n\u001b[1;32m    <a href='file:///uscms_data/d3/aaportel/mambaforge/envs/analysis-env/lib/python3.9/site-packages/coffea/processor/executor.py?line=410'>411</a>\u001b[0m             executor\u001b[39m.\u001b[39mcompression,\n\u001b[1;32m    <a href='file:///uscms_data/d3/aaportel/mambaforge/envs/analysis-env/lib/python3.9/site-packages/coffea/processor/executor.py?line=411'>412</a>\u001b[0m         )\n\u001b[1;32m    <a href='file:///uscms_data/d3/aaportel/mambaforge/envs/analysis-env/lib/python3.9/site-packages/coffea/processor/executor.py?line=412'>413</a>\u001b[0m \u001b[39m# Add checkpointing\u001b[39;00m\n",
      "File \u001b[0;32m/uscms_data/d3/aaportel/mambaforge/envs/analysis-env/lib/python3.9/site-packages/coffea/processor/executor.py:285\u001b[0m, in \u001b[0;36m_FuturesHolder.fetch\u001b[0;34m(self, N)\u001b[0m\n\u001b[1;32m    <a href='file:///uscms_data/d3/aaportel/mambaforge/envs/analysis-env/lib/python3.9/site-packages/coffea/processor/executor.py?line=282'>283</a>\u001b[0m bad_futures \u001b[39m=\u001b[39m [future \u001b[39mfor\u001b[39;00m future \u001b[39min\u001b[39;00m _completed \u001b[39mif\u001b[39;00m \u001b[39mnot\u001b[39;00m _good_future(future)]\n\u001b[1;32m    <a href='file:///uscms_data/d3/aaportel/mambaforge/envs/analysis-env/lib/python3.9/site-packages/coffea/processor/executor.py?line=283'>284</a>\u001b[0m \u001b[39mself\u001b[39m\u001b[39m.\u001b[39mcompleted\u001b[39m.\u001b[39mupdate(good_futures)\n\u001b[0;32m--> <a href='file:///uscms_data/d3/aaportel/mambaforge/envs/analysis-env/lib/python3.9/site-packages/coffea/processor/executor.py?line=284'>285</a>\u001b[0m \u001b[39mraise\u001b[39;00m bad_futures[\u001b[39m0\u001b[39m]\u001b[39m.\u001b[39mexception()\n",
      "\u001b[0;31mException\u001b[0m: Failed processing file: WorkItem(dataset='BToPhiK', filename='root://cmsxrootd.fnal.gov//store/group/phys_exotica/delayedjets/displacedJetMuonAnalyzer/csc/V1p17/MC_Fall18/v2/v3/normalized/BToKPhi_MuonGenFilter_mPhi1p0_ctau1000_1pb_weighted.root', treename='MuonSystem', entrystart=0, entrystop=102974, fileuuid=b'\\xec\\xaf\\xa3\\x90\\xf75\\x11\\xec\\xab\\x03f\\n\\x03\\n\\xbe\\xef', usermeta={})"
     ]
    }
   ],
   "source": [
    "fileset = {}\n",
    "fileset['BToPhiK'] = ['root://cmsxrootd.fnal.gov//store/group/phys_exotica/delayedjets/displacedJetMuonAnalyzer/csc/V1p17/MC_Fall18/v2/v3/normalized/BToKPhi_MuonGenFilter_mPhi1p0_ctau1000_1pb_weighted.root',]\n",
    "\n",
    "out = processor.run_uproot_job(\n",
    "    fileset,\n",
    "    treename=\"MuonSystem\",\n",
    "    processor_instance=LLP_ntuple_processor(),\n",
    "    executor=processor.futures_executor,\n",
    "    executor_args={\"schema\": BaseSchema, \"workers\": 1},\n",
    "    maxchunks = 1\n",
    ")"
   ]
  },
  {
   "cell_type": "code",
   "execution_count": 18,
   "metadata": {},
   "outputs": [
    {
     "data": {
      "text/plain": [
       "{'BToPhiK': {'entries': 823789, 'sumw': 0.9999997}}"
      ]
     },
     "execution_count": 18,
     "metadata": {},
     "output_type": "execute_result"
    }
   ],
   "source": [
    "out"
   ]
  },
  {
   "cell_type": "code",
   "execution_count": 20,
   "metadata": {},
   "outputs": [
    {
     "data": {
      "text/plain": [
       "{'BToPhiK': {'entries': 102974, 'sumw': 0.12500042}}"
      ]
     },
     "execution_count": 20,
     "metadata": {},
     "output_type": "execute_result"
    }
   ],
   "source": [
    "out"
   ]
  },
  {
   "cell_type": "code",
   "execution_count": null,
   "metadata": {},
   "outputs": [],
   "source": []
  }
 ],
 "metadata": {
  "kernelspec": {
   "display_name": "Python 3 (ipykernel)",
   "language": "python",
   "name": "python3"
  },
  "language_info": {
   "codemirror_mode": {
    "name": "ipython",
    "version": 3
   },
   "file_extension": ".py",
   "mimetype": "text/x-python",
   "name": "python",
   "nbconvert_exporter": "python",
   "pygments_lexer": "ipython3",
   "version": "3.9.13"
  },
  "orig_nbformat": 4
 },
 "nbformat": 4,
 "nbformat_minor": 2
}
