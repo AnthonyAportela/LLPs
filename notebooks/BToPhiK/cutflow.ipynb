{
 "cells": [
  {
   "cell_type": "code",
   "execution_count": 1,
   "metadata": {
    "tags": []
   },
   "outputs": [
    {
     "name": "stderr",
     "output_type": "stream",
     "text": [
      "/uscms_data/d3/aaportel/mambaforge/envs/analysis-env/lib/python3.9/site-packages/coffea/util.py:154: FutureWarning: In coffea version v0.8.0 (target date: 31 Dec 2022), this will be an error.\n",
      "(Set coffea.deprecations_as_errors = True to get a stack trace now.)\n",
      "ImportError: coffea.hist is deprecated\n",
      "  warnings.warn(message, FutureWarning)\n"
     ]
    }
   ],
   "source": [
    "import awkward as ak\n",
    "import numpy as np\n",
    "import hist as hs\n",
    "from coffea import processor, hist as chs\n",
    "from coffea.nanoevents.methods import vector, candidate\n",
    "from numba import jit\n",
    "\n",
    "from coffea.nanoevents import BaseSchema\n",
    "import mplhep as hep\n",
    "import matplotlib.pyplot as plt\n",
    "plt.style.use(hep.style.CMS)"
   ]
  },
  {
   "cell_type": "code",
   "execution_count": 21,
   "metadata": {
    "tags": []
   },
   "outputs": [],
   "source": [
    "class LLP_ntuple_processor(processor.ProcessorABC):\n",
    "    \"\"\"\n",
    "    This class is used to process the ntuples created by the LLP ntuple producer.\n",
    "    \"\"\"\n",
    "    \n",
    "    global a # don't do this\n",
    "    a = 1\n",
    "\n",
    "    def acc_cut(self, events):\n",
    "\n",
    "        cut = (events.gLLP_csc == 1)\n",
    "        return events[cut]\n",
    "        #return events[ak.any(cut, axis = -1)]\n",
    "\n",
    "    def met_cut(self, events):\n",
    "        cut = events.metEENoise >= 30\n",
    "        return events[cut]\n",
    "\n",
    "    def csc_eff_cut(self, events):\n",
    "        \n",
    "        cut = (events.nCscRechitClusters >= 1)\n",
    "        return events[cut]\n",
    "\n",
    "    def muon_veto(self, events):\n",
    "        \n",
    "        cut = (events.cscRechitClusterMuonVetoPt < 20)\n",
    "        return events[ak.any(cut, axis = a)]\n",
    "\n",
    "    def jet_cut(self, events):\n",
    "        \n",
    "        cut = (events.cscRechitClusterJetVetoPt < 10)\n",
    "        return events[ak.any(cut, axis = a)]\n",
    "\n",
    "    def time_cut(self, events):\n",
    "\n",
    "        cut = ((events.cscRechitClusterTimeWeighted <= 12.5)&\n",
    "               (events.cscRechitClusterTimeWeighted >= -5  ))\n",
    "        return events[ak.any(cut, axis = a)]\n",
    "\n",
    "    def ME11_veto(self, events):\n",
    "\n",
    "        cut = ((events.cscRechitClusterNRechitChamberPlus11 <= 0)&\n",
    "               (events.cscRechitClusterNRechitChamberMinus11 <= 0))\n",
    "        return events[ak.any(cut, axis = a)]\n",
    "\n",
    "\n",
    "    def ME12_veto(self, events):\n",
    "\n",
    "        cut = ((events.cscRechitClusterNRechitChamberPlus12 <= 0)&\n",
    "               (events.cscRechitClusterNRechitChamberMinus12 <= 0))\n",
    "        return events[ak.any(cut, axis = a)]\n",
    "\n",
    "\n",
    "    def re12_cut(self, events):\n",
    "        \n",
    "        cut = events.cscRechitCluster_match_RE12_0p4 == 0\n",
    "        return events[ak.any(cut, axis = a)]\n",
    "\n",
    "    def mb1_cut(self, events):\n",
    "        \n",
    "        cut = events.cscRechitCluster_match_MB1Seg_0p4 == 0\n",
    "        return events[ak.any(cut, axis = a)]\n",
    "\n",
    "    def rb1_cut(self, events):\n",
    "        \n",
    "        cut = events.cscRechitCluster_match_RB1_0p4 == 0\n",
    "        return events[ak.any(cut, axis = a)]\n",
    "\n",
    "    def eta_cut(self, events):\n",
    "        \n",
    "        cut = abs(events.gLLP_eta) < 2 \n",
    "        return events[cut]\n",
    "\n",
    "    def time_spread_cut(self, events):\n",
    "    \n",
    "        cut = events.cscRechitClusterTimeSpreadWeightedAll <= 20\n",
    "        return events[ak.any(cut, axis = a)]\n",
    "\n",
    "    def cut_based(self, events):\n",
    "    \n",
    "        cut = (((events.cscRechitClusterNStation10 > 1) & (abs(events.cscRechitClusterEta) < 1.9))|\n",
    "               ((events.cscRechitClusterNStation10 == 1) & (abs(events.cscRechitClusterAvgStation10) == 4) & (abs(events.cscRechitClusterEta) < 1.8))|\n",
    "               ((events.cscRechitClusterNStation10 == 1) & (abs(events.cscRechitClusterAvgStation10) == 3) & (abs(events.cscRechitClusterEta) < 1.6))|\n",
    "               ((events.cscRechitClusterNStation10 == 1) & (abs(events.cscRechitClusterAvgStation10) == 2) & (abs(events.cscRechitClusterEta) < 1.6))|\n",
    "               ((events.cscRechitClusterNStation10 == 1) & (abs(events.cscRechitClusterAvgStation10) == 1) & (abs(events.cscRechitClusterEta) < 1.1))\n",
    "            )\n",
    "        return events[ak.any(cut, axis = a)]\n",
    "\n",
    "    def dphi_cut(self, events):\n",
    "    \n",
    "        cut = abs(events.cscRechitClusterMetEENoise_dPhi) < 0.75\n",
    "        return events[ak.any(cut, axis = a)]\n",
    "\n",
    "    def nrechits_cut(self, events):\n",
    "\n",
    "        cut = events.cscRechitClusterSize > 130\n",
    "        return events[ak.any(cut, axis = a)]\n",
    "\n",
    "\n",
    "    def muon_cls_deltaR(self, events):\n",
    "        \n",
    "        clusts = ak.zip(\n",
    "            {\n",
    "                'pt': ak.ones_like(events.cscRechitClusterPhi),\n",
    "                'phi': events.cscRechitClusterPhi,\n",
    "                'eta': events.cscRechitClusterEta,\n",
    "                'mass': ak.ones_like(events.cscRechitClusterPhi),\n",
    "                'E': ak.ones_like(events.cscRechitClusterPhi),\n",
    "            },\n",
    "            with_name = 'PtEtaPhiMLorentzVector',\n",
    "            behavior = vector.behavior,                 \n",
    "          )\n",
    "\n",
    "        muoncut = abs(events.lepPdgId) == 13\n",
    "        muons = ak.zip(\n",
    "            {\n",
    "                'pt': events.lepPt[muoncut],\n",
    "                'phi': events.lepPhi[muoncut],\n",
    "                'eta': events.lepEta[muoncut],\n",
    "                'mass': ak.ones_like(events.lepPhi[muoncut]),\n",
    "                'E': events.lepE[muoncut],\n",
    "            },\n",
    "            with_name = 'PtEtaPhiMLorentzVector',\n",
    "            behavior = vector.behavior,                 \n",
    "          )\n",
    "        leadcut = ak.max(muons.pt, 1) == muons.pt\n",
    "        muons = muons[leadcut]\n",
    "        \n",
    "        muon_cls_pairs = ak.cartesian({\n",
    "            \"clusts\": clusts, \n",
    "            \"muons\": muons\n",
    "        }, axis = 1, nested = True)\n",
    "        \n",
    "        deltaR = (muon_cls_pairs.clusts).delta_r(muon_cls_pairs.muons)\n",
    "        deltaEta = abs(muon_cls_pairs.clusts.eta - muon_cls_pairs.muons.eta)\n",
    "        deltaPhi = np.arctan2(np.sin(muon_cls_pairs.clusts.phi - muon_cls_pairs.muons.phi), \n",
    "                              np.cos(muon_cls_pairs.clusts.phi - muon_cls_pairs.muons.phi))\n",
    "        \n",
    "        deltaRcut = deltaR > .4\n",
    "        \n",
    "        \n",
    "        return deltaR, deltaEta, deltaPhi, deltaRcut\n",
    "    \n",
    "    def muon_llp_deltaR(self, events):\n",
    "        \n",
    "        llps = ak.zip(\n",
    "            {\n",
    "                'pt': ak.ones_like(events.gLLP_phi),\n",
    "                'phi': events.gLLP_phi,\n",
    "                'eta': events.gLLP_eta,\n",
    "                'mass': ak.ones_like(events.gLLP_phi),\n",
    "                'E': ak.ones_like(events.gLLP_phi),\n",
    "            },\n",
    "            with_name = 'PtEtaPhiMLorentzVector',\n",
    "            behavior = vector.behavior,                 \n",
    "          )\n",
    "\n",
    "        muoncut = abs(events.lepPdgId) == 13\n",
    "        muons = ak.zip(\n",
    "            {\n",
    "                'pt': events.lepPt[muoncut],\n",
    "                'phi': events.lepPhi[muoncut],\n",
    "                'eta': events.lepEta[muoncut],\n",
    "                'mass': ak.ones_like(events.lepPhi[muoncut]),\n",
    "                'E': events.lepE[muoncut],\n",
    "            },\n",
    "            with_name = 'PtEtaPhiMLorentzVector',\n",
    "            behavior = vector.behavior,                 \n",
    "          )\n",
    "        leadcut = ak.max(muons.pt, axis = 1) == muons.pt\n",
    "        muons = muons[leadcut]\n",
    "        \n",
    "        muon_llp_pairs = ak.cartesian({\n",
    "            \"llps\": llps, \n",
    "            \"muons\": muons\n",
    "        }, axis = 1, nested = True)\n",
    "        \n",
    "        \n",
    "        deltaR = (muon_llp_pairs.llps).delta_r(muon_llp_pairs.muons)\n",
    "        deltaEta = abs(muon_llp_pairs.llps.eta - muon_llp_pairs.muons.eta)\n",
    "        deltaPhi = np.arctan2(np.sin(muon_llp_pairs.llps.phi - muon_llp_pairs.muons.phi), \n",
    "                              np.cos(muon_llp_pairs.llps.phi - muon_llp_pairs.muons.phi))\n",
    "        \n",
    "        return deltaR, deltaEta, deltaPhi\n",
    "\n",
    "    \n",
    "    def process(self, events):\n",
    "\n",
    "        dataset = events.metadata['dataset']\n",
    "        '''try:\n",
    "            weight = events.weight\n",
    "        except:\n",
    "            weight = ak.ones_like(events.evtNum)\n",
    "       '''\n",
    "        out = {\n",
    "            dataset: {\n",
    "                \"entries\": len(events),\n",
    "                #\"weight\": weight\n",
    "            }\n",
    "        }\n",
    "        \n",
    "        \n",
    "        \n",
    "        # cheeky way of sequentially adding cuts to events\n",
    "        #cuts = [self.acc_cut, self.csc_eff_cut, self.muon_veto, self.jet_cut, self.time_cut, self.ME11_veto, self.ME12_veto, self.re12_cut, self.mb1_cut, self.rb1_cut, self.eta_cut, self.time_spread_cut, self.cut_based, self.dphi_cut, self.nrechits_cut]\n",
    "        cuts = [self.acc_cut, self.ME11_veto, self.ME12_veto, self.re12_cut, self.mb1_cut, self.rb1_cut]\n",
    "\n",
    "        last = events\n",
    "        out[dataset]['total'] = len(last)\n",
    "        deltaR, deltaEta, deltaPhi, deltaRcut = self.muon_cls_deltaR(last)\n",
    "        #deltaRcut = ak.values_astype(ak.ones_like(last.metEENoise), 'bool')#deltaRcut override\n",
    "        \n",
    "        # not exactly sure why .mask[cut] works here and not [cut], but it does, and I think it's correct\n",
    "        out[dataset]['total_met'] = hs.Hist.new.Reg(30, 0, 100, name='met', label='MET [GeV]').Double()\n",
    "        out[dataset]['total_met'].fill(ak.flatten(last.metEENoise.mask[deltaRcut], axis=None))\n",
    "        out[dataset]['total_dphi'] = hs.Hist.new.Reg(30, 0, 5, name='dPhi', label='dPhi').Double()\n",
    "        out[dataset]['total_dphi'].fill(ak.flatten(last.cscRechitClusterMetEENoise_dPhi.mask[deltaRcut], axis=None))\n",
    "        out[dataset]['total_timeSpread'] = hs.Hist.new.Reg(30, 0, 20, name='timeSpread', label='time').Double()\n",
    "        out[dataset]['total_timeSpread'].fill(ak.flatten(last.cscRechitClusterTimeSpreadWeightedAll.mask[deltaRcut], axis=None))\n",
    "        out[dataset]['total_clsEta'] = hs.Hist.new.Reg(30, 0, 4, name='clsEta', label='eta').Double()\n",
    "        out[dataset]['total_clsEta'].fill(ak.flatten(abs(last.cscRechitClusterEta.mask[deltaRcut]), axis=None))        \n",
    "        out[dataset]['total_clsTimeTotal'] = hs.Hist.new.Reg(30, -200, 200, name='clsTimeTotal', label='time').Double()\n",
    "        out[dataset]['total_clsTimeTotal'].fill(ak.flatten(last.cscRechitClusterTimeTotal.mask[deltaRcut], axis=None))         \n",
    "        \n",
    "\n",
    "        \n",
    "        out[dataset]['total_deltaR_muon_cls'] = hs.Hist.new.Reg(30, 0, 4, name='deltaR_muon_cls', label='deltaR_muon_cls').Double()\n",
    "        out[dataset]['total_deltaR_muon_cls'].fill(ak.flatten(deltaR.mask[deltaRcut], axis=None))\n",
    "        out[dataset]['total_deltaEta_muon_cls'] = hs.Hist.new.Reg(30, 0, 4, name='deltaEta_muon_cls', label='deltaEta_muon_cls').Double()\n",
    "        out[dataset]['total_deltaEta_muon_cls'].fill(ak.flatten(deltaEta.mask[deltaRcut], axis=None))\n",
    "        out[dataset]['total_deltaPhi_muon_cls'] = hs.Hist.new.Reg(30, 0, 4, name='deltaPhi_muon_cls', label='deltaPhi_muon_cls').Double()\n",
    "        out[dataset]['total_deltaPhi_muon_cls'].fill(ak.flatten(deltaPhi.mask[deltaRcut], axis=None))\n",
    "    \n",
    "        '''try: # don't do this\n",
    "            deltaR, deltaEta, deltaPhi = self.muon_llp_deltaR(last)\n",
    "            out[dataset]['total_deltaR_muon_llp'] = hs.Hist.new.Reg(30, 0, 4, name='deltaR_muon_llp', label='deltaR_muon_llp').Double()\n",
    "            out[dataset]['total_deltaR_muon_llp'].fill(ak.flatten(deltaR, axis=None))\n",
    "            out[dataset]['total_deltaEta_muon_llp'] = hs.Hist.new.Reg(30, 0, 4, name='deltaEta_muon_llp', label='deltaEta_muon_llp').Double()\n",
    "            out[dataset]['total_deltaEta_muon_llp'].fill(ak.flatten(deltaEta, axis=None))\n",
    "            out[dataset]['total_deltaPhi_muon_llp'] = hs.Hist.new.Reg(30, 0, 4, name='deltaPhi_muon_llp', label='deltaPhi_muon_llp').Double()\n",
    "            out[dataset]['total_deltaPhi_muon_llp'].fill(ak.flatten(deltaPhi, axis=None))\n",
    "            \n",
    "        except:\n",
    "            pass'''\n",
    "            \n",
    "        \n",
    "        for cut in cuts:\n",
    "\n",
    "            try: # don't do this\n",
    "                last = cut(last)\n",
    "            except:\n",
    "                last = last\n",
    "               \n",
    "            deltaR, deltaEta, deltaPhi, deltaRcut = self.muon_cls_deltaR(last)\n",
    "            #deltaRcut = ak.values_astype(ak.ones_like(last.metEENoise), 'bool') #deltaRcut override\n",
    "            \n",
    "            out[dataset][cut.__name__] = len(last)\n",
    "            out[dataset][f'{cut.__name__}_met'] = hs.Hist.new.Reg(30, 0, 100, name='met', label='MET [GeV]').Double()\n",
    "            out[dataset][f'{cut.__name__}_met'].fill(ak.flatten(last.metEENoise.mask[deltaRcut], axis=None))\n",
    "            out[dataset][f'{cut.__name__}_dphi'] = hs.Hist.new.Reg(30, 0, 5, name='dPhi', label='dPhi').Double()\n",
    "            out[dataset][f'{cut.__name__}_dphi'].fill(ak.flatten(last.cscRechitClusterMetEENoise_dPhi.mask[deltaRcut], axis=None))\n",
    "            out[dataset][f'{cut.__name__}_timeSpread'] = hs.Hist.new.Reg(30, 0, 20, name='timeSpread', label='time').Double()\n",
    "            out[dataset][f'{cut.__name__}_timeSpread'].fill(ak.flatten(last.cscRechitClusterTimeSpreadWeightedAll.mask[deltaRcut], axis=None))\n",
    "            out[dataset][f'{cut.__name__}_clsEta'] = hs.Hist.new.Reg(30, 0, 4, name='clsEta', label='eta').Double()\n",
    "            out[dataset][f'{cut.__name__}_clsEta'].fill(ak.flatten(abs(last.cscRechitClusterEta.mask[deltaRcut]), axis=None))        \n",
    "            out[dataset][f'{cut.__name__}_clsTimeTotal'] = hs.Hist.new.Reg(30, -200, 200, name='clsTimeTotal', label='time').Double()\n",
    "            out[dataset][f'{cut.__name__}_clsTimeTotal'].fill(ak.flatten(last.cscRechitClusterTimeTotal.mask[deltaRcut], axis=None))       \n",
    "\n",
    "            \n",
    "            out[dataset][f'{cut.__name__}_deltaR_muon_cls'] = hs.Hist.new.Reg(30, 0, 4, name='deltaR_muon_cls', label='deltaR_muon_cls').Double()\n",
    "            out[dataset][f'{cut.__name__}_deltaR_muon_cls'].fill(ak.flatten(deltaR.mask[deltaRcut], axis=None))\n",
    "            out[dataset][f'{cut.__name__}_deltaEta_muon_cls'] = hs.Hist.new.Reg(30, 0, 4, name='deltaEta_muon_cls', label='deltaEta_muon_cls').Double()\n",
    "            out[dataset][f'{cut.__name__}_deltaEta_muon_cls'].fill(ak.flatten(deltaEta.mask[deltaRcut], axis=None))\n",
    "            out[dataset][f'{cut.__name__}_deltaPhi_muon_cls'] = hs.Hist.new.Reg(30, 0, 4, name='deltaPhi_muon_cls', label='deltaPhi_muon_cls').Double()\n",
    "            out[dataset][f'{cut.__name__}_deltaPhi_muon_cls'].fill(ak.flatten(deltaPhi.mask[deltaRcut], axis=None))\n",
    "            \n",
    "            '''try: # for light and life, don't do this\n",
    "                deltaR, deltaEta, deltaPhi = self.muon_llp_deltaR(last)\n",
    "                out[dataset][f'{cut.__name__}_deltaR_muon_llp'] = hs.Hist.new.Reg(30, 0, 4, name='deltaR_muon_llp', label='deltaR_muon_llp').Double()\n",
    "                out[dataset][f'{cut.__name__}_deltaR_muon_llp'].fill(ak.flatten(deltaR, axis=None))\n",
    "                out[dataset][f'{cut.__name__}_deltaEta_muon_llp'] = hs.Hist.new.Reg(30, 0, 4, name='deltaEta_muon_llp', label='deltaEta_muon_llp').Double()\n",
    "                out[dataset][f'{cut.__name__}_deltaEta_muon_llp'].fill(ak.flatten(deltaEta, axis=None))\n",
    "                out[dataset][f'{cut.__name__}_deltaPhi_muon_llp'] = hs.Hist.new.Reg(30, 0, 4, name='deltaPhi_muon_llp', label='deltaPhi_muon_llp').Double()\n",
    "                out[dataset][f'{cut.__name__}_deltaPhi_muon_llp'].fill(ak.flatten(deltaPhi, axis=None))\n",
    "            except:\n",
    "                pass'''\n",
    "\n",
    "        return out   \n",
    "    \n",
    "    def postprocess(self, accumulator):\n",
    "        return accumulator"
   ]
  },
  {
   "cell_type": "code",
   "execution_count": 22,
   "metadata": {
    "tags": []
   },
   "outputs": [
    {
     "data": {
      "application/vnd.jupyter.widget-view+json": {
       "model_id": "b8785ef79a6d4f268a02ff1e00045e83",
       "version_major": 2,
       "version_minor": 0
      },
      "text/plain": [
       "Output()"
      ]
     },
     "metadata": {},
     "output_type": "display_data"
    },
    {
     "data": {
      "text/html": [
       "<pre style=\"white-space:pre;overflow-x:auto;line-height:normal;font-family:Menlo,'DejaVu Sans Mono',consolas,'Courier New',monospace\"></pre>\n"
      ],
      "text/plain": []
     },
     "metadata": {},
     "output_type": "display_data"
    },
    {
     "data": {
      "text/html": [
       "<pre style=\"white-space:pre;overflow-x:auto;line-height:normal;font-family:Menlo,'DejaVu Sans Mono',consolas,'Courier New',monospace\">\n",
       "</pre>\n"
      ],
      "text/plain": [
       "\n"
      ]
     },
     "metadata": {},
     "output_type": "display_data"
    }
   ],
   "source": [
    "fileset = {}\n",
    "fileset['signal']     = ['root://cmsxrootd.fnal.gov//store/group/phys_exotica/delayedjets/displacedJetMuonAnalyzer/csc/V1p17/MC_Fall18/v2/v3/normalized/BToKPhi_MuonGenFilter_mPhi1p0_ctau1000_1pb_weighted.root',]\n",
    "fileset['background'] = ['root://cmsxrootd.fnal.gov//store/user/christiw/displacedJetMuonAnalyzer/csc/V1p171/Data2018_UL/v3/normalized/ParkingBPH4_Run2018A_goodLumi.root']\n",
    "out = processor.run_uproot_job(\n",
    "    fileset,\n",
    "    treename=\"MuonSystem\",\n",
    "    processor_instance=LLP_ntuple_processor(),\n",
    "    executor=processor.futures_executor,\n",
    "    executor_args={\"schema\": BaseSchema, \"workers\": 16},\n",
    "    #maxchunks = 1\n",
    ")\n",
    "\n",
    "cuts = ['total', 'acc_cut', 'ME11_veto', 'ME12_veto', 're12_cut', 'mb1_cut', 'rb1_cut']"
   ]
  },
  {
   "cell_type": "code",
   "execution_count": 6,
   "metadata": {
    "tags": []
   },
   "outputs": [],
   "source": [
    "from hist.intervals import ratio_uncertainty\n",
    "def ratio(num, den, ax):\n",
    "    ax.errorbar(\n",
    "        x=num.axes[0].centers,\n",
    "        y=num.view() / den.view() ,\n",
    "        yerr=ratio_uncertainty(num.view(), den.view()),\n",
    "        color=\"k\",\n",
    "        linestyle=\"none\",\n",
    "        marker=\"o\",\n",
    "        elinewidth=1,\n",
    "    )\n",
    "    return ax\n"
   ]
  },
  {
   "cell_type": "code",
   "execution_count": null,
   "metadata": {
    "collapsed": true,
    "jupyter": {
     "outputs_hidden": true
    },
    "tags": []
   },
   "outputs": [
    {
     "name": "stderr",
     "output_type": "stream",
     "text": [
      "/tmp/ipykernel_29546/4019254757.py:5: RuntimeWarning: invalid value encountered in true_divide\n",
      "  y=num.view() / den.view() ,\n",
      "/tmp/ipykernel_29546/4019254757.py:5: RuntimeWarning: invalid value encountered in true_divide\n",
      "  y=num.view() / den.view() ,\n",
      "/tmp/ipykernel_29546/4019254757.py:5: RuntimeWarning: invalid value encountered in true_divide\n",
      "  y=num.view() / den.view() ,\n",
      "/tmp/ipykernel_29546/4019254757.py:5: RuntimeWarning: invalid value encountered in true_divide\n",
      "  y=num.view() / den.view() ,\n",
      "/tmp/ipykernel_29546/4019254757.py:5: RuntimeWarning: invalid value encountered in true_divide\n",
      "  y=num.view() / den.view() ,\n",
      "/tmp/ipykernel_29546/4019254757.py:5: RuntimeWarning: invalid value encountered in true_divide\n",
      "  y=num.view() / den.view() ,\n",
      "/tmp/ipykernel_29546/4019254757.py:5: RuntimeWarning: invalid value encountered in true_divide\n",
      "  y=num.view() / den.view() ,\n"
     ]
    },
    {
     "data": {
      "image/png": "[encoded data removed]",
      "text/plain": [
       "<Figure size 509.117x360 with 2 Axes>"
      ]
     },
     "metadata": {
      "needs_background": "light"
     },
     "output_type": "display_data"
    },
    {
     "data": {
      "image/png": "[encoded data removed]",
      "text/plain": [
       "<Figure size 509.117x360 with 2 Axes>"
      ]
     },
     "metadata": {
      "needs_background": "light"
     },
     "output_type": "display_data"
    },
    {
     "data": {
      "image/png": "[encoded data removed]",
      "text/plain": [
       "<Figure size 509.117x360 with 2 Axes>"
      ]
     },
     "metadata": {
      "needs_background": "light"
     },
     "output_type": "display_data"
    },
    {
     "data": {
      "image/png": "[encoded data removed]",
      "text/plain": [
       "<Figure size 509.117x360 with 2 Axes>"
      ]
     },
     "metadata": {
      "needs_background": "light"
     },
     "output_type": "display_data"
    },
    {
     "data": {
      "image/png": "[encoded data removed]",
      "text/plain": [
       "<Figure size 509.117x360 with 2 Axes>"
      ]
     },
     "metadata": {
      "needs_background": "light"
     },
     "output_type": "display_data"
    },
    {
     "data": {
      "image/png": "[encoded data removed]",
      "text/plain": [
       "<Figure size 509.117x360 with 2 Axes>"
      ]
     },
     "metadata": {
      "needs_background": "light"
     },
     "output_type": "display_data"
    },
    {
     "data": {
      "image/png": "[encoded data removed]",
      "text/plain": [
       "<Figure size 509.117x360 with 2 Axes>"
      ]
     },
     "metadata": {
      "needs_background": "light"
     },
     "output_type": "display_data"
    }
   ],
   "source": [
    "from matplotlib.backends.backend_pdf import PdfPages\n",
    "\n",
    "varname = 'deltaR'\n",
    "\n",
    "#pdf = PdfPages(f'{varname}_cutflow_sb.pdf')\n",
    "\n",
    "l = len(cuts)\n",
    "for cut in cuts:\n",
    "    fig, ax = plt.subplots(2,1, gridspec_kw={'height_ratios': [3, 1]}, figsize=(np.sqrt(2)*5,5))\n",
    "    \n",
    "    signal = out['signal'][f'{cut}_{varname}_muon_cls']\n",
    "    background = out['background'][f'{cut}_{varname}_muon_cls']\n",
    "\n",
    "    hep.histplot(signal/signal.sum(), label='signal', ax=ax[0])\n",
    "    hep.histplot(background/background.sum(), label='background', ax=ax[0])\n",
    "    ax[0].set_title(f'{varname} with {cut} cut')\n",
    "    ax[0].legend()\n",
    "    ax[0].tick_params(\n",
    "        axis='x',          # changes apply to the x-axis\n",
    "        which='both',      # both major and minor ticks are affected\n",
    "        bottom=False,      # ticks along the bottom edge are off\n",
    "        top=False,         # ticks along the top edge are off\n",
    "        labelbottom=False) # labels along the bottom edge are off\n",
    "    ax[0].set(xlabel=None)\n",
    "    ax[0].set_yscale('log')\n",
    "    \n",
    "    ratio(signal/signal.sum(), background/background.sum(), ax[1])\n",
    "    ax[1].set_xlim(ax[0].get_xlim())\n",
    "    ax[1].set(xlabel=varname)\n",
    "    ax[1].set_yscale('log')\n",
    "    fig.subplots_adjust(wspace=0, hspace=.05)\n",
    "#    pdf.savefig(fig)\n",
    "#pdf.close()\n"
   ]
  },
  {
   "cell_type": "code",
   "execution_count": null,
   "metadata": {
    "tags": []
   },
   "outputs": [],
   "source": [
    "from matplotlib.backends.backend_pdf import PdfPages\n",
    "\n",
    "varnames = ['met', 'timeSpread', 'clsEta', 'clsTimeTotal']\n",
    "\n",
    "for varname in varnames:\n",
    "    pdf = PdfPages(f'varPlots_sb_07_28_22/{varname}_cutflow_sb.pdf')\n",
    "        \n",
    "    for cut in cuts:\n",
    "        fig, ax = plt.subplots(2,1, gridspec_kw={'height_ratios': [3, 1]}, figsize=(np.sqrt(2)*5,5))\n",
    "\n",
    "        signal = out['signal'][f'{cut}_{varname}']\n",
    "        background = out['background'][f'{cut}_{varname}']\n",
    "\n",
    "        hep.histplot(signal/signal.sum(), label='signal', ax=ax[0])\n",
    "        hep.histplot(background/background.sum(), label='background', ax=ax[0])\n",
    "        ax[0].set_title(f'{varname} with {cut} cut')\n",
    "        ax[0].legend()\n",
    "        ax[0].tick_params(\n",
    "            axis='x',          # changes apply to the x-axis\n",
    "            which='both',      # both major and minor ticks are affected\n",
    "            bottom=False,      # ticks along the bottom edge are off\n",
    "            top=False,         # ticks along the top edge are off\n",
    "            labelbottom=False) # labels along the bottom edge are off\n",
    "        ax[0].set(xlabel=None)\n",
    "        ax[0].set_yscale('log')\n",
    "\n",
    "        ratio(signal/signal.sum(), background/background.sum(), ax[1])\n",
    "        ax[1].set_xlim(ax[0].get_xlim())\n",
    "        ax[1].set(xlabel=varname)\n",
    "        ax[1].set_yscale('log')\n",
    "        fig.subplots_adjust(wspace=0, hspace=.05)\n",
    "        pdf.savefig(fig)\n",
    "    pdf.close()\n"
   ]
  },
  {
   "cell_type": "code",
   "execution_count": null,
   "metadata": {},
   "outputs": [],
   "source": []
  }
 ],
 "metadata": {
  "kernelspec": {
   "display_name": "Python 3 (ipykernel)",
   "language": "python",
   "name": "python3"
  },
  "language_info": {
   "codemirror_mode": {
    "name": "ipython",
    "version": 3
   },
   "file_extension": ".py",
   "mimetype": "text/x-python",
   "name": "python",
   "nbconvert_exporter": "python",
   "pygments_lexer": "ipython3",
   "version": "3.9.13"
  }
 },
 "nbformat": 4,
 "nbformat_minor": 4
}
