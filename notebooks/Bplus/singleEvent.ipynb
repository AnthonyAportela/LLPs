{
 "cells": [
  {
   "cell_type": "code",
   "execution_count": 6,
   "metadata": {},
   "outputs": [],
   "source": [
    "import awkward as ak\n",
    "import uproot\n",
    "from coffea.nanoevents import NanoEventsFactory, BaseSchema"
   ]
  },
  {
   "cell_type": "code",
   "execution_count": 2,
   "metadata": {},
   "outputs": [],
   "source": [
    "domain = 'root://cmsxrootd.fnal.gov/'\n",
    "directory = ('/store/group/lpclonglived/displacedJetMuonNtuple'\n",
    "           + '/V1p17/MC_Fall18/v3/BToHNL_MuonAndHNLGenFilter_mHNL1p0_ctau1000'\n",
    "           + '/Run2_displacedJetMuonNtupler_V1p17_MC_Fall18_batch1_v3/220331_202058/0000/')\n",
    "\n",
    "filename = domain + directory + 'displacedJetMuon_ntupler_100.root'\n",
    "file = uproot.open(filename)\n",
    "events = NanoEventsFactory.from_root(\n",
    "    file,\n",
    "    treepath='ntuples/llp',\n",
    "    entry_stop=10000,\n",
    "    metadata={\"dataset\": \"llp\"},\n",
    "    schemaclass=BaseSchema,\n",
    ").events()"
   ]
  },
  {
   "cell_type": "code",
   "execution_count": 11,
   "metadata": {},
   "outputs": [
    {
     "data": {
      "text/plain": [
       "161000"
      ]
     },
     "execution_count": 11,
     "metadata": {},
     "output_type": "execute_result"
    }
   ],
   "source": [
    "ak.count(events.cscRechitClusterX, axis = None)*700"
   ]
  },
  {
   "cell_type": "code",
   "execution_count": 8,
   "metadata": {},
   "outputs": [
    {
     "data": {
      "text/plain": [
       "<Array [[], [], [-125], [], ... [], [], [], []] type='2930 * var * float32[param...'>"
      ]
     },
     "execution_count": 8,
     "metadata": {},
     "output_type": "execute_result"
    }
   ],
   "source": [
    "events.cscRechitClusterX"
   ]
  },
  {
   "cell_type": "code",
   "execution_count": null,
   "metadata": {},
   "outputs": [],
   "source": []
  }
 ],
 "metadata": {
  "kernelspec": {
   "display_name": "Python 3 (ipykernel)",
   "language": "python",
   "name": "python3"
  },
  "language_info": {
   "codemirror_mode": {
    "name": "ipython",
    "version": 3
   },
   "file_extension": ".py",
   "mimetype": "text/x-python",
   "name": "python",
   "nbconvert_exporter": "python",
   "pygments_lexer": "ipython3",
   "version": "3.9.9"
  },
  "orig_nbformat": 4
 },
 "nbformat": 4,
 "nbformat_minor": 2
}
