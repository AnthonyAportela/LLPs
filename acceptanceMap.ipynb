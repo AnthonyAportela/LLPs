{
 "cells": [
  {
   "cell_type": "code",
   "execution_count": 1,
   "id": "45832b1a",
   "metadata": {
    "scrolled": true
   },
   "outputs": [
    {
     "name": "stdout",
     "output_type": "stream",
     "text": [
      "Welcome to JupyROOT 6.24/06\n"
     ]
    }
   ],
   "source": [
    "import sys\n",
    "import ROOT as RT\n",
    "import awkward as ak\n",
    "from coffea.nanoevents import NanoEventsFactory, DelphesSchema\n",
    "import numpy as np\n",
    "import matplotlib.pyplot as plt\n",
    "import scipy.stats as ss\n",
    "import pprint"
   ]
  },
  {
   "cell_type": "markdown",
   "id": "c44c1044",
   "metadata": {},
   "source": [
    "Helper function for streamlining the import of the root files"
   ]
  },
  {
   "cell_type": "code",
   "execution_count": 2,
   "id": "46e65aaa",
   "metadata": {},
   "outputs": [],
   "source": [
    "def getEvents(fileURL, treename):\n",
    "    return NanoEventsFactory.from_root(fileURL, treepath = treename, schemaclass = DelphesSchema).events()\n"
   ]
  },
  {
   "cell_type": "markdown",
   "id": "66c12d7d",
   "metadata": {},
   "source": [
    "Import root files and save them to dict called datasets"
   ]
  },
  {
   "cell_type": "code",
   "execution_count": 3,
   "id": "cf2eaf9e",
   "metadata": {},
   "outputs": [],
   "source": [
    "filedir   = \"root://cms-xrd-global.cern.ch//store/user/christiw/BDecay_delphes/v2/\"\n",
    "filenames = {'1e1mm': \"m1_ct10mm.root\",\n",
    "             '1e2mm': \"m1_ct100mm.root\",\n",
    "             '1e3mm': \"m1_ct1000mm.root\",\n",
    "             '1e4mm': \"m1_ct10000mm.root\"}\n",
    "treename  = \"Delphes\"\n",
    "\n",
    "# TODO: ak.zip this into one awkward array\n",
    "datasets = {}\n",
    "for key in filenames:\n",
    "    datasets[key] = getEvents(filedir + filenames[key], treename)\n"
   ]
  },
  {
   "cell_type": "code",
   "execution_count": 12,
   "id": "7b48ee5d",
   "metadata": {},
   "outputs": [
    {
     "data": {
      "text/plain": [
       "['MissingET.offsets',\n",
       " 'MissingET',\n",
       " 'CscCluster130.offsets',\n",
       " 'CscCluster130',\n",
       " 'CscClusterID.offsets',\n",
       " 'CscClusterID',\n",
       " 'Particle.offsets',\n",
       " 'Particle',\n",
       " 'Cscllp.offsets',\n",
       " 'Cscllp',\n",
       " 'Vertex.offsets',\n",
       " 'Vertex',\n",
       " 'Event.offsets',\n",
       " 'Event',\n",
       " 'Electron.offsets',\n",
       " 'Electron',\n",
       " 'llp.offsets',\n",
       " 'llp',\n",
       " 'higgs.offsets',\n",
       " 'higgs',\n",
       " 'Jet.offsets',\n",
       " 'Jet',\n",
       " 'Muon.offsets',\n",
       " 'Muon',\n",
       " 'Weight.offsets',\n",
       " 'Weight',\n",
       " 'MuonIso.offsets',\n",
       " 'MuonIso']"
      ]
     },
     "execution_count": 12,
     "metadata": {},
     "output_type": "execute_result"
    }
   ],
   "source": [
    "datasets['1e4mm'].fields"
   ]
  },
  {
   "cell_type": "markdown",
   "id": "160b573f",
   "metadata": {},
   "source": [
    "A precut that takes in event.llp or event.CscCluster130 and cuts everything outside the bounding box."
   ]
  },
  {
   "cell_type": "code",
   "execution_count": 4,
   "id": "dca7d958",
   "metadata": {},
   "outputs": [],
   "source": [
    "#takes in either event.llp or event.CscCluster130\n",
    "def inCSC(llp):\n",
    "    \n",
    "    r = np.sqrt(llp.X**2 + llp.Y**2) \n",
    "    \n",
    "    trueIn = ((abs(llp.Eta) < 2.4) &\n",
    "               (abs(llp.Z) > 4000) & (abs(llp.Z) < 11000) &\n",
    "               (r < 6955)) \n",
    "    \n",
    "    return llp[trueIn]"
   ]
  },
  {
   "cell_type": "markdown",
   "id": "a71433a4",
   "metadata": {},
   "source": [
    "Generates histograms for efficiency mapping of llp and CscCluster130 for a given variable, inside of the detector"
   ]
  },
  {
   "cell_type": "code",
   "execution_count": 5,
   "id": "1c49f7ac",
   "metadata": {
    "scrolled": true
   },
   "outputs": [
    {
     "name": "stdout",
     "output_type": "stream",
     "text": [
      "{'1e1mm': {'real': <cppyy.gbl.TH1F object at 0x564362325eb0>,\n",
      "           'reco': <cppyy.gbl.TH1F object at 0x5643623274a0>},\n",
      " '1e2mm': {'real': <cppyy.gbl.TH1F object at 0x56436232e850>,\n",
      "           'reco': <cppyy.gbl.TH1F object at 0x5643623486a0>},\n",
      " '1e3mm': {'real': <cppyy.gbl.TH1F object at 0x56436232e2d0>,\n",
      "           'reco': <cppyy.gbl.TH1F object at 0x5643623295b0>},\n",
      " '1e4mm': {'real': <cppyy.gbl.TH1F object at 0x5643622f9770>,\n",
      "           'reco': <cppyy.gbl.TH1F object at 0x564362326d40>}}\n"
     ]
    },
    {
     "name": "stderr",
     "output_type": "stream",
     "text": [
      "Warning in <TROOT::Append>: Replacing existing TH1: Z decay pos (mm) (Potential memory leak).\n",
      "Warning in <TROOT::Append>: Replacing existing TH1: Hadronic Energy (GeV) (Potential memory leak).\n",
      "Warning in <TROOT::Append>: Replacing existing TH1: Z decay pos (mm) (Potential memory leak).\n",
      "Warning in <TROOT::Append>: Replacing existing TH1: Z decay pos (mm) (Potential memory leak).\n",
      "Warning in <TROOT::Append>: Replacing existing TH1: Hadronic Energy (GeV) (Potential memory leak).\n",
      "Warning in <TROOT::Append>: Replacing existing TH1: Hadronic Energy (GeV) (Potential memory leak).\n",
      "Warning in <TROOT::Append>: Replacing existing TH1: Z decay pos (mm) (Potential memory leak).\n",
      "Warning in <TROOT::Append>: Replacing existing TH1: Z decay pos (mm) (Potential memory leak).\n",
      "Warning in <TROOT::Append>: Replacing existing TH1: Hadronic Energy (GeV) (Potential memory leak).\n",
      "Warning in <TROOT::Append>: Replacing existing TH1: Hadronic Energy (GeV) (Potential memory leak).\n",
      "Warning in <TROOT::Append>: Replacing existing TH1: Z decay pos (mm) (Potential memory leak).\n",
      "Warning in <TROOT::Append>: Replacing existing TH1: Z decay pos (mm) (Potential memory leak).\n",
      "Warning in <TROOT::Append>: Replacing existing TH1: Hadronic Energy (GeV) (Potential memory leak).\n",
      "Warning in <TROOT::Append>: Replacing existing TH1: Hadronic Energy (GeV) (Potential memory leak).\n"
     ]
    }
   ],
   "source": [
    "# initialize some dicitonaries to store histograms in an organized manner\n",
    "pos_histos = {}\n",
    "Ehad_histos  = {}\n",
    "\n",
    "# for variable binning\n",
    "Ehad_bins = np.array([0,25,50,75,100,150,200,250])*1.\n",
    "\n",
    "# initialize dictionaries\n",
    "for ctau in datasets:\n",
    "    pos_histos[ctau] = {'reco': RT.TH1F('Z decay pos (mm)', ctau + ' reco', 25, 6500, 11000),\n",
    "                        'real': RT.TH1F('Z decay pos (mm)', ctau + ' real', 25, 6500, 11000)}\n",
    "    \n",
    "    Ehad_histos[ctau]  = {'reco': RT.TH1F('Hadronic Energy (GeV)', ctau + ' reco', 7, Ehad_bins),\n",
    "                          'real': RT.TH1F('Hadronic Energy (GeV)', ctau + ' real', 7, Ehad_bins)}   \n",
    "                         # real means generated llp (events.llp)\n",
    "                         # reco means reconstructed (events.CscCluster130)\n",
    "\n",
    "pprint.pprint(pos_histos)"
   ]
  },
  {
   "cell_type": "code",
   "execution_count": 6,
   "id": "f24895ba",
   "metadata": {},
   "outputs": [],
   "source": [
    "# loops over each ctau in datasets\n",
    "for ctau in datasets:\n",
    "    #sys.stdout.write(\"\\r Reading \" + filenames[ctau])\n",
    "    \n",
    "    # cut's out everything not in muon cap\n",
    "    realLLP = inCSC(datasets[ctau].llp)\n",
    "    recoLLP = inCSC(datasets[ctau].CscCluster130)\n",
    "    \n",
    "    # flattens to have an iterable list of all the Z positions (within the endcap)\n",
    "    realLLP_zpos = ak.flatten(realLLP.Z, axis = None)\n",
    "    recoLLP_zpos = ak.flatten(recoLLP.Z, axis = None)\n",
    "    \n",
    "    # flattens to have an iterable list of all the hadronic energies (of particles within the endcap)\n",
    "    realLLP_Ehad = ak.flatten(realLLP.Ehad, axis = None)\n",
    "    recoLLP_Ehad = ak.flatten(recoLLP.Ehad, axis = None)\n",
    "    \n",
    "    # histogram maker. Split into different loops for readability\n",
    "    for z in realLLP_zpos:\n",
    "        pos_histos[ctau]['real'].Fill(z)\n",
    "        \n",
    "    for z in recoLLP_zpos:\n",
    "        pos_histos[ctau]['reco'].Fill(z)\n",
    "        \n",
    "    for Ehad in realLLP_Ehad:\n",
    "        Ehad_histos[ctau]['real'].Fill(Ehad)\n",
    "        \n",
    "    for Ehad in recoLLP_Ehad:\n",
    "        Ehad_histos[ctau]['reco'].Fill(Ehad)\n",
    "        "
   ]
  },
  {
   "cell_type": "code",
   "execution_count": 7,
   "id": "52981363",
   "metadata": {
    "scrolled": true
   },
   "outputs": [
    {
     "name": "stdout",
     "output_type": "stream",
     "text": [
      "{'1e1mm': {'ratio': <cppyy.gbl.TEfficiency object at 0x564362ac04a0>,\n",
      "           'real': <cppyy.gbl.TH1F object at 0x564362325eb0>,\n",
      "           'reco': <cppyy.gbl.TH1F object at 0x5643623274a0>},\n",
      " '1e2mm': {'ratio': <cppyy.gbl.TEfficiency object at 0x56435da74800>,\n",
      "           'real': <cppyy.gbl.TH1F object at 0x56436232e850>,\n",
      "           'reco': <cppyy.gbl.TH1F object at 0x5643623486a0>},\n",
      " '1e3mm': {'ratio': <cppyy.gbl.TEfficiency object at 0x564362adc5e0>,\n",
      "           'real': <cppyy.gbl.TH1F object at 0x56436232e2d0>,\n",
      "           'reco': <cppyy.gbl.TH1F object at 0x5643623295b0>},\n",
      " '1e4mm': {'ratio': <cppyy.gbl.TEfficiency object at 0x564362a99f50>,\n",
      "           'real': <cppyy.gbl.TH1F object at 0x5643622f9770>,\n",
      "           'reco': <cppyy.gbl.TH1F object at 0x564362326d40>}}\n"
     ]
    }
   ],
   "source": [
    "# calculates and adds efficiencies to the histogram dictionaries\n",
    "for ctau in datasets:\n",
    "    pos_histos[ctau]['ratio'] = RT.TEfficiency(pos_histos[ctau]['reco'], pos_histos[ctau]['real'])\n",
    "    pos_histos[ctau]['ratio'].SetMarkerStyle(20)\n",
    "    \n",
    "    Ehad_histos[ctau]['ratio'] = RT.TEfficiency(Ehad_histos[ctau]['reco'], Ehad_histos[ctau]['real'])\n",
    "    Ehad_histos[ctau]['ratio'].SetMarkerStyle(20)\n",
    "    \n",
    "pprint.pprint(pos_histos)"
   ]
  },
  {
   "cell_type": "markdown",
   "id": "7a497eb0",
   "metadata": {},
   "source": [
    "Saves efficiency histograms to pdf with proper labels"
   ]
  },
  {
   "cell_type": "code",
   "execution_count": 8,
   "id": "8ea0e721",
   "metadata": {},
   "outputs": [
    {
     "name": "stderr",
     "output_type": "stream",
     "text": [
      "Info in <TCanvas::Print>: pdf file EhadEff.pdf has been created\n",
      "Info in <TCanvas::Print>: Current canvas added to pdf file EhadEff.pdf\n",
      "Info in <TCanvas::Print>: Current canvas added to pdf file EhadEff.pdf\n",
      "Info in <TCanvas::Print>: Current canvas added to pdf file EhadEff.pdf\n",
      "Info in <TCanvas::Print>: Current canvas added to pdf file EhadEff.pdf\n",
      "Info in <TCanvas::Print>: pdf file EhadEff.pdf has been closed\n"
     ]
    }
   ],
   "source": [
    "EhadFileName = 'EhadEff.pdf'\n",
    "c = RT.TCanvas(\"canvas\")\n",
    "c.Print(EhadFileName + \"[\")\n",
    "    \n",
    "for ctau in Ehad_histos:\n",
    "    te = Ehad_histos[ctau]['ratio']\n",
    "    te.SetTitle(ctau+\"; Hadronic Energy ; \\epsilon\")\n",
    "    te.Draw()\n",
    "    c.Print(EhadFileName)\n",
    "    c.Clear()\n",
    "    \n",
    "c.Print(EhadFileName + \"]\") #closes pdf\n",
    "c.Close() #closes canvas"
   ]
  },
  {
   "cell_type": "code",
   "execution_count": 9,
   "id": "a10f280f",
   "metadata": {},
   "outputs": [
    {
     "name": "stderr",
     "output_type": "stream",
     "text": [
      "Info in <TCanvas::Print>: pdf file PosEff.pdf has been created\n",
      "Info in <TCanvas::Print>: Current canvas added to pdf file PosEff.pdf\n",
      "Info in <TCanvas::Print>: Current canvas added to pdf file PosEff.pdf\n",
      "Info in <TCanvas::Print>: Current canvas added to pdf file PosEff.pdf\n",
      "Info in <TCanvas::Print>: Current canvas added to pdf file PosEff.pdf\n",
      "Info in <TCanvas::Print>: pdf file PosEff.pdf has been closed\n"
     ]
    }
   ],
   "source": [
    "PosFileName = 'PosEff.pdf'\n",
    "c = RT.TCanvas(\"canvas\")\n",
    "c.Print(PosFileName + \"[\")\n",
    "    \n",
    "for ctau in pos_histos:\n",
    "    te = pos_histos[ctau]['ratio']\n",
    "    te.SetTitle(ctau+\"; Z decay Pos ; \\epsilon\")\n",
    "    te.Draw()\n",
    "    c.Print(PosFileName)\n",
    "    c.Clear()\n",
    "    \n",
    "c.Print(PosFileName + \"]\") #closes pdf\n",
    "c.Close() #closes canvas"
   ]
  },
  {
   "cell_type": "code",
   "execution_count": null,
   "id": "35215461",
   "metadata": {},
   "outputs": [],
   "source": []
  }
 ],
 "metadata": {
  "kernelspec": {
   "display_name": "Python 3 (ipykernel)",
   "language": "python",
   "name": "python3"
  },
  "language_info": {
   "codemirror_mode": {
    "name": "ipython",
    "version": 3
   },
   "file_extension": ".py",
   "mimetype": "text/x-python",
   "name": "python",
   "nbconvert_exporter": "python",
   "pygments_lexer": "ipython3",
   "version": "3.9.9"
  }
 },
 "nbformat": 4,
 "nbformat_minor": 5
}
